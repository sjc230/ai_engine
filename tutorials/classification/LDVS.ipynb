{
  "nbformat": 4,
  "nbformat_minor": 0,
  "metadata": {
    "colab": {
      "name": "Coshatt-LDVS.ipynb",
      "provenance": [],
      "authorship_tag": "ABX9TyOVlNafdDsS355y2q+XfzwI",
      "include_colab_link": true
    },
    "kernelspec": {
      "name": "python3",
      "display_name": "Python 3"
    },
    "language_info": {
      "name": "python"
    }
  },
  "cells": [
    {
      "cell_type": "markdown",
      "metadata": {
        "id": "view-in-github",
        "colab_type": "text"
      },
      "source": [
        "<a href=\"https://colab.research.google.com/github/iotanalytics/IoTTutorial/blob/main/code/clustering_and_classification/LDVS.ipynb\" target=\"_parent\"><img src=\"https://colab.research.google.com/assets/colab-badge.svg\" alt=\"Open In Colab\"/></a>"
      ]
    },
    {
      "cell_type": "markdown",
      "metadata": {
        "id": "ZZJE93Diy7On"
      },
      "source": [
        "## **Learning-Discriminative-Virtual-Sequences for Time Series Classification**\n",
        "\n",
        "**INTRODUCTION:**\n",
        "\n",
        "The code refers to the paper \"Learning Discriminative Virtual Sequences for Time Series Classification, Abhilash Dorle, F.Li, W.Song, Sheng Li, CIKM'20\" [1]\n",
        "\n",
        "We implement our code on various datasets from UCR time series archive\n",
        "\n",
        "**USAGE:**\n",
        "\n",
        "1. Convert the data in the following format:\n",
        "\n",
        "  *  Column 1: Label of the time series sample\n",
        "\n",
        "  *  Column 2 onwards the time series\n",
        "\n",
        "  *  We follow the format used in the UCR time series archive\n",
        "\n",
        "2. Change the location in train.mat and test.mat to the dataset location\n",
        "\n",
        "3. Hyperparameter tuning may be required for new datsets. This can be done in driver_dtw.m\n",
        "\n",
        "4. Run driver_dtw.m\n",
        "\n",
        "**CITATION:**\n",
        "\n",
        "Please cite the paper \"Learning Discriminative Virtual Sequences for Time Series Classification\", Conference on Information and Knowledge Management, 2020\n",
        "\n",
        "**References:**\n",
        "1.  https://github.com/AbhilashDorle/Learning-Discriminative-Virtual-Sequences-TSC\n",
        "2.  https://sensorweb.engr.uga.edu/wp-content/uploads/2020/08/dorle2020learning.pdf"
      ]
    },
    {
      "cell_type": "code",
      "metadata": {
        "id": "dhbFGxwJy4ry"
      },
      "source": [
        ""
      ],
      "execution_count": null,
      "outputs": []
    }
  ]
}