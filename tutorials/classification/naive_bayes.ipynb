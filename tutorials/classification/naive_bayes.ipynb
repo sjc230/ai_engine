{
  "nbformat": 4,
  "nbformat_minor": 0,
  "metadata": {
    "colab": {
      "provenance": []
    },
    "kernelspec": {
      "name": "python3",
      "display_name": "Python 3"
    },
    "language_info": {
      "name": "python"
    }
  },
  "cells": [
    {
      "cell_type": "markdown",
      "metadata": {
        "id": "view-in-github"
      },
      "source": [
        "<a href=\"https://colab.research.google.com/github/iotanalytics/IoTTutorial/blob/main/code/clustering_and_classification/SVM.ipynb\" target=\"_parent\"><img src=\"https://colab.research.google.com/assets/colab-badge.svg\" alt=\"Open In Colab\"/></a>"
      ]
    },
    {
      "cell_type": "markdown",
      "metadata": {
        "id": "MrgCSAQnDxGy"
      },
      "source": [
        "## Random Forest\n",
        "From **Analytics Vidhya**.  See references [1] & [2]\n",
        "\n",
        "Modified: **Stephen Coshatt**\n",
        "</br></br>\n",
        "\n",
        "\n",
        "**Naive Bayes** classification algorithms are probabilistic models based on Bayes Theorem [1].  Naïve Bayes is a probabilistic algorithm that is based on the concept of conditional probability [2]. We know it not only for its simplicity but also for its speed [2].\n",
        "\n",
        "We also defined it as an algorithm is a simple and fast machine learning algorithm that is often favored in cases of real-time predictions [2].\n",
        "\n",
        "In Bayes Theorem, probability is defined as the likelihood of an event occuring.  P(A/B) is the conditional probability of A given B, or the likelihood of event A if event B has already occurred. Because we already know that B has happened when we experiment, the number of alternative outcomes for the event has been limited [2]. As a result, given that B has already occurred, the unconditional probability has now changed to a conditional probability [2].\n",
        "\n",
        "We define the conditional probability as [2]:\n",
        "\n",
        "𝑃(𝐴/𝐵) = 𝑃(𝐴 ∩ 𝐵) 𝑃(𝐵)\n",
        "\n",
        "Where 𝑃(𝐴 ∩ 𝐵) represents the joint probability, i.e. probability, of both events happening together [2].\n",
        "\n",
        "There are three types of Naive Bayes Classifiers:\n",
        "\n",
        "1. Gaussian Naive Bayes - This classifier is employed when the predictor values are continuous and are expected to follow a Gaussian distribution [1].  the assumption is made that the continuous numerical attributes are distributed normally [2]. The attribute is first segmented based on the output class, and then the variance and mean of the attribute are calculated for each class [2].\n",
        "\n",
        "2.  Bernoulli Naive Bayes - When the predictors are boolean in nature and are supposed to follow the Bernoulli distribution, this classifier is utilized [1].  The features are distributed according to multivariate Bernoulli distributions [2]. This means that there may be multiple features, but each one will be an independent Boolean variable [2]. Hence, it requires the samples to be binary-values [2]. Similar to the multinomial algorithm, the Bernoulli algorithm is popular for text classification, where binary occurrences are used in place of term frequencies [2].\n",
        "\n",
        "3.  Multinomial Naive Bayes - This classifier makes use of a multinomial distribution and is often used to solve issues involving document or text classification [1].  We prefer the multinomial Naïve Bayes model when the data is multinomially distributed. The feature vectors represent the frequency with which a multinomial has generated a certain event [2]. We mostly used the multinomial Naïve Bayes algorithm in cases of text classification [2].\n",
        "\n",
        "**Naive Bayes Classifiers**\n",
        "\n",
        "It is a supervised machine learning algorithm for classification based on Bayes' theorem. The algorithm learns the probability of data instances belonging to a particular class. Hence, it is a probabilistic classifier. [2]\n",
        "\n",
        "![88602naive.png](data:image/png;base64,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)\n",
        "\n",
        "The reason for calling it \"naïve\" is that it assumes that the occurrence of a particular feature (X) is independent of the occurrence of any other features (any other Xs). For example, we can predict fruit as an apple if it is red, round, and 2 inches in width. These features independently contribute to the probability that the predicted fruit is an apple, even though these features depend on each other. [2]\n",
        "\n",
        "This can also be considered as an advantage since the Naïve Bayes algorithm requires only a small amount of training data for the estimation of the parameters of the algorithm. [2]\n",
        "\n",
        "In the above picture, the red circle category represents the person who does not own a bike, whereas the blue square category represents the person who owns a bike. There is another data point marked by the Green triangle. How do we find out in which category does the data point lie or if the person owns a bike? [2]\n",
        "\n",
        "Let us use the Naïve Bayes algorithm to solve this problem. First, we calculate the probability of a person owning a bike or not. The total data points are 30, red points are 9 and blue points are 21. [2]\n",
        "\n",
        "𝑃(𝑁𝑜 𝑏𝑖k𝑒) = 9/30 𝑃(𝑏𝑖k𝑒) = 21/30\n",
        "\n",
        "The new data point is like the data points in that circle, it may have any radius value. The marginal probability says that if we add a new point, [2]\n",
        "\n",
        "𝑃(𝑃𝑜𝑖𝑛𝑡) = 𝑁𝑢𝑚𝑏𝑒𝑟 𝑜𝑓 𝑂𝑏𝑠𝑒𝑟𝑣𝑎𝑡𝑖𝑜𝑛𝑠 𝑖𝑛 𝑐𝑖𝑟𝑐𝑙𝑒/ 𝑇𝑜𝑡𝑎𝑙 𝑂𝑏𝑠𝑒𝑟𝑣𝑎𝑡𝑖𝑜𝑛𝑠 = 4/30\n",
        "\n",
        "The next probability that we will calculate will say that the new data point will lie in the circle given that the person does not own a bike. [2]\n",
        "\n",
        "𝑃 ( 𝑃𝑜𝑖𝑛𝑡 / 𝑁𝑜 𝑏𝑖k𝑒 ) = 𝑁𝑢𝑚𝑏𝑒𝑟 𝑜𝑓 𝑁𝑜 𝑏𝑖k𝑒 𝑂𝑏𝑠𝑒𝑟𝑣𝑎𝑡𝑖𝑜𝑛𝑠 𝑖𝑛 𝑐𝑖𝑟𝑐𝑙𝑒 /𝑇𝑜𝑡𝑎𝑙 𝑂𝑏𝑠𝑒𝑟𝑣𝑎𝑡𝑖𝑜𝑛𝑠 𝑜𝑓 𝑁𝑜 𝑏𝑖k𝑒 = 1/9\n",
        "\n",
        "The posterior probability is given by, [2]\n",
        "\n",
        "𝑃(𝑁𝑜 𝑏𝑖k𝑒/𝑃𝑜𝑖𝑛𝑡) = 1 / 4 = 0.25\n",
        "\n",
        "So there is a 25% chance that the given data point/person does not own a bike. Calculate the other posterior probability. [2]\n",
        "\n",
        "𝑃(𝑏𝑖k𝑒/𝑃𝑜𝑖𝑛𝑡) = 3 / 4 = 0.75\n",
        "\n",
        "And there's a 75% probability the person owns a bike. As a result, the new person is more likely to own a bike. After then, we will classify the point as a person who owns a bike. The Naive Bayes algorithm works in this way. [2]\n",
        "\n",
        "\n",
        "</br>\n",
        "\n",
        "**Advantages:**\n",
        "\n",
        "* This algorithm works very fast and can easily predict the class of a test dataset. [3] [4]\n",
        "* You can use it to solve multi-class prediction problems as it's quite useful with them. [3]\n",
        "* Naive Bayes classifier performs better than other models with less training data if the assumption of independence of features holds. [3]\n",
        "* If you have categorical input variables, the Naive Bayes algorithm performs exceptionally well in comparison to numerical variables. [3]\n",
        "* It can be used for Binary and Multi-class Classifications. [3]\n",
        "* It effectively works in Multi-class predictions. [3]\n",
        "\n",
        "**Disadvantages:**\n",
        "\n",
        "* If your test data set has a categorical variable of a category that wasn't present in the training data set, the Naive Bayes model will assign it zero probability and won't be able to make any predictions in this regard. This phenomenon is called 'Zero Frequency,' and you'll have to use a smoothing technique to solve this problem. [3]\n",
        "* This algorithm is also notorious as a lousy estimator. So, you shouldn't take the probability outputs of 'predict_proba' too seriously (perdict_proba is a built in sklearn function). [3]\n",
        "* It assumes that all the features are independent. While it might sound great in theory, in real life, you'll hardly find a set of independent features. [3] [4]\n",
        "\n",
        "**Refernece:**\n",
        "\n",
        "1.   https://www.analyticsvidhya.com/blog/2021/11/implementation-of-gaussian-naive-bayes-in-python-sklearn/\n",
        "2.  https://www.analyticsvidhya.com/blog/2022/03/gaussian-naive-bayes-algorithm-for-credit-risk-modelling/\n",
        "3.  https://www.upgrad.com/blog/naive-bayes-classifier/\n",
        "4.  https://machinelearninginterview.com/topics/machine-learning/naive-bayes-classifier-advantages-and-disadvantages/\n",
        "\n",
        "\n",
        "\n"
      ]
    },
    {
      "cell_type": "code",
      "metadata": {
        "colab": {
          "base_uri": "https://localhost:8080/"
        },
        "id": "8n7opunQlgAf",
        "outputId": "4b714efa-2e83-46c8-c59e-6d380a606c96"
      },
      "source": [
        "!pip install sktime\n",
        "!pip install tslearn"
      ],
      "execution_count": 1,
      "outputs": [
        {
          "output_type": "stream",
          "name": "stdout",
          "text": [
            "Collecting sktime\n",
            "  Downloading sktime-0.24.1-py3-none-any.whl (20.7 MB)\n",
            "\u001b[2K     \u001b[90m━━━━━━━━━━━━━━━━━━━━━━━━━━━━━━━━━━━━━━━━\u001b[0m \u001b[32m20.7/20.7 MB\u001b[0m \u001b[31m37.4 MB/s\u001b[0m eta \u001b[36m0:00:00\u001b[0m\n",
            "\u001b[?25hRequirement already satisfied: numpy<1.27,>=1.21 in /usr/local/lib/python3.10/dist-packages (from sktime) (1.23.5)\n",
            "Requirement already satisfied: packaging in /usr/local/lib/python3.10/dist-packages (from sktime) (23.2)\n",
            "Requirement already satisfied: pandas<2.2.0,>=1.1 in /usr/local/lib/python3.10/dist-packages (from sktime) (1.5.3)\n",
            "Collecting scikit-base<0.7.0 (from sktime)\n",
            "  Downloading scikit_base-0.6.1-py3-none-any.whl (122 kB)\n",
            "\u001b[2K     \u001b[90m━━━━━━━━━━━━━━━━━━━━━━━━━━━━━━━━━━━━━━━━\u001b[0m \u001b[32m122.4/122.4 kB\u001b[0m \u001b[31m6.1 MB/s\u001b[0m eta \u001b[36m0:00:00\u001b[0m\n",
            "\u001b[?25hRequirement already satisfied: scikit-learn<1.4.0,>=0.24 in /usr/local/lib/python3.10/dist-packages (from sktime) (1.2.2)\n",
            "Requirement already satisfied: scipy<2.0.0,>=1.2 in /usr/local/lib/python3.10/dist-packages (from sktime) (1.11.4)\n",
            "Requirement already satisfied: python-dateutil>=2.8.1 in /usr/local/lib/python3.10/dist-packages (from pandas<2.2.0,>=1.1->sktime) (2.8.2)\n",
            "Requirement already satisfied: pytz>=2020.1 in /usr/local/lib/python3.10/dist-packages (from pandas<2.2.0,>=1.1->sktime) (2023.3.post1)\n",
            "Requirement already satisfied: joblib>=1.1.1 in /usr/local/lib/python3.10/dist-packages (from scikit-learn<1.4.0,>=0.24->sktime) (1.3.2)\n",
            "Requirement already satisfied: threadpoolctl>=2.0.0 in /usr/local/lib/python3.10/dist-packages (from scikit-learn<1.4.0,>=0.24->sktime) (3.2.0)\n",
            "Requirement already satisfied: six>=1.5 in /usr/local/lib/python3.10/dist-packages (from python-dateutil>=2.8.1->pandas<2.2.0,>=1.1->sktime) (1.16.0)\n",
            "Installing collected packages: scikit-base, sktime\n",
            "Successfully installed scikit-base-0.6.1 sktime-0.24.1\n",
            "Collecting tslearn\n",
            "  Downloading tslearn-0.6.2-py3-none-any.whl (369 kB)\n",
            "\u001b[2K     \u001b[90m━━━━━━━━━━━━━━━━━━━━━━━━━━━━━━━━━━━━━━━━\u001b[0m \u001b[32m369.8/369.8 kB\u001b[0m \u001b[31m3.7 MB/s\u001b[0m eta \u001b[36m0:00:00\u001b[0m\n",
            "\u001b[?25hRequirement already satisfied: numpy in /usr/local/lib/python3.10/dist-packages (from tslearn) (1.23.5)\n",
            "Requirement already satisfied: scipy in /usr/local/lib/python3.10/dist-packages (from tslearn) (1.11.4)\n",
            "Requirement already satisfied: scikit-learn in /usr/local/lib/python3.10/dist-packages (from tslearn) (1.2.2)\n",
            "Requirement already satisfied: numba in /usr/local/lib/python3.10/dist-packages (from tslearn) (0.58.1)\n",
            "Requirement already satisfied: joblib in /usr/local/lib/python3.10/dist-packages (from tslearn) (1.3.2)\n",
            "Requirement already satisfied: llvmlite<0.42,>=0.41.0dev0 in /usr/local/lib/python3.10/dist-packages (from numba->tslearn) (0.41.1)\n",
            "Requirement already satisfied: threadpoolctl>=2.0.0 in /usr/local/lib/python3.10/dist-packages (from scikit-learn->tslearn) (3.2.0)\n",
            "Installing collected packages: tslearn\n",
            "Successfully installed tslearn-0.6.2\n"
          ]
        }
      ]
    },
    {
      "cell_type": "code",
      "metadata": {
        "id": "FWDivwgppgRn"
      },
      "source": [
        "from math import radians\n",
        "import sys\n",
        "import os\n",
        "import numpy as np\n",
        "import matplotlib.pyplot as plt\n",
        "import pandas as pd\n",
        "from pandas import read_csv\n",
        "from pathlib import Path\n",
        "\n",
        "#import streamlit as st\n",
        "\n",
        "import re\n",
        "import pytz\n",
        "from datetime import datetime\n",
        "from datetime import date\n",
        "\n",
        "import enum\n",
        "from matplotlib.colors import ListedColormap\n",
        "from sklearn.model_selection import train_test_split\n",
        "from sklearn.preprocessing import StandardScaler\n",
        "from sklearn.pipeline import Pipeline\n",
        "from sklearn.model_selection import GridSearchCV\n",
        "from sklearn.metrics import ConfusionMatrixDisplay, classification_report, RocCurveDisplay, auc, roc_curve, roc_auc_score\n",
        "\n",
        "from sklearn.naive_bayes import GaussianNB,  BernoulliNB\n",
        "\n",
        "from plotly.subplots import make_subplots\n",
        "import plotly.graph_objects as go\n",
        "import plotly.express as px"
      ],
      "execution_count": 2,
      "outputs": []
    },
    {
      "cell_type": "code",
      "metadata": {
        "colab": {
          "base_uri": "https://localhost:8080/"
        },
        "id": "mXE7brGToUQG",
        "outputId": "51d8b995-b142-4e93-9059-43c5c62f1f86"
      },
      "source": [
        "# GET TIME SERIES DATASET\n",
        "# steps 1, 2 - prepare osuleaf dataset (train and new)\n",
        "from sktime.datasets import load_italy_power_demand\n",
        "\n",
        "X_train, y_train = load_italy_power_demand(split=\"train\", return_type=\"numpy2D\")\n",
        "X_test, y_test = load_italy_power_demand(split=\"test\", return_type=\"numpy2D\")\n",
        "\n",
        "print(\"shape of X_train \",X_train.shape)\n",
        "print(\"shape of y_train \",y_train.shape)\n",
        "print(\"shape of X_test \",X_test.shape)\n",
        "print(\"shape of y_test \",y_test.shape)\n",
        "\n",
        "y_train = y_train.astype(int)\n",
        "y_test = y_test.astype(int)\n",
        "\n",
        "n_classes = int(np.amax(y_train))\n",
        "print(\"number of classes is \",n_classes)"
      ],
      "execution_count": 3,
      "outputs": [
        {
          "output_type": "stream",
          "name": "stdout",
          "text": [
            "shape of X_train  (67, 24)\n",
            "shape of y_train  (67,)\n",
            "shape of X_test  (1029, 24)\n",
            "shape of y_test  (1029,)\n",
            "number of classes is  2\n"
          ]
        }
      ]
    },
    {
      "cell_type": "code",
      "source": [
        "# NAIVE BAYES CLASSIFIER GRID SEARCH\n",
        "\n",
        "# GAUSSIAN NAIVE BAYES CLASSIFIER\n",
        "def pipeBuild_GaussianNB(priors=[None],var_smoothing=[1.0e-9]):\n",
        "  classifier = GaussianNB()\n",
        "  pipeline = Pipeline(steps=[('gnb', classifier)])\n",
        "\n",
        "  params = [{\n",
        "      'gnb__priors': priors, # Array of Arrays if not default\n",
        "      'gnb__var_smoothing': var_smoothing,\n",
        "  }]\n",
        "  return pipeline, params\n",
        "\n",
        "\n",
        "# BOURNOULLI NAIVE BAYES CLASSIFIER\n",
        "def pipeBuild_BernoulliNB(alpha=[1.0],force_alpha=[True],binarize=[0.0],fit_prior=[True],class_prior=[None]):\n",
        "  classifier = BernoulliNB()\n",
        "  pipeline = Pipeline(steps=[('mnb', classifier)])\n",
        "\n",
        "  params = [{\n",
        "      'mnb__alpha': alpha,\n",
        "      'mnb__binarize': binarize,\n",
        "      'mnb__fit_prior': fit_prior,\n",
        "      'mnb__fit_prior': fit_prior,\n",
        "      'mnb__class_prior': class_prior,\n",
        "  }]\n",
        "  return pipeline, params"
      ],
      "metadata": {
        "id": "ckl5vmOX5Vui"
      },
      "execution_count": 4,
      "outputs": []
    },
    {
      "cell_type": "code",
      "source": [
        "# SETUP & RUN GAUSSIAN NAIVE BAYES GRIDSEARCH TRAINING & TESTING\n",
        "\n",
        "gnb = pipeBuild_GaussianNB(priors=[None],var_smoothing=[1.0e-9])\n",
        "\n",
        "names=['Guassian NB']\n",
        "pipes=[gnb]\n",
        "\n",
        "\n",
        "samples = np.arange(len(X_train[0,:]))\n",
        "\n",
        "# iterate over classifiers\n",
        "for j in range(len(names)):\n",
        "\n",
        "    today = date.today()\n",
        "    now = today.strftime(\"%b-%d-%Y\")\n",
        "    save_file = str(names[j]) + '-' + str(now) + '-HeatMap.png'\n",
        "\n",
        "    grid_search = GridSearchCV(estimator=pipes[j][0], param_grid=pipes[j][1], scoring='neg_mean_squared_error',cv=5, verbose=1, n_jobs=-1)\n",
        "    grid_search.fit(X_train, y_train)\n",
        "    score = grid_search.score(X_test, y_test)\n",
        "    print(\"Best parameter (CV score=%0.3f):\" % grid_search.best_score_)\n",
        "    print(grid_search.best_params_)\n",
        "    y_pred = grid_search.predict(X_test)\n",
        "    print(classification_report(y_test, y_pred))\n",
        "    ConfusionMatrixDisplay.from_estimator(grid_search, X_test, y_test, xticks_rotation=\"vertical\")\n",
        "\n",
        "plt.tight_layout()\n",
        "plt.show()"
      ],
      "metadata": {
        "colab": {
          "base_uri": "https://localhost:8080/",
          "height": 706
        },
        "id": "Ee6rqeBj6V5a",
        "outputId": "63c6e4f9-00ea-4dab-c661-c3b68c6ffc48"
      },
      "execution_count": 5,
      "outputs": [
        {
          "output_type": "stream",
          "name": "stdout",
          "text": [
            "Fitting 5 folds for each of 1 candidates, totalling 5 fits\n",
            "Best parameter (CV score=-0.058):\n",
            "{'gnb__priors': None, 'gnb__var_smoothing': 1e-09}\n",
            "              precision    recall  f1-score   support\n",
            "\n",
            "           1       0.87      0.94      0.90       513\n",
            "           2       0.94      0.86      0.89       516\n",
            "\n",
            "    accuracy                           0.90      1029\n",
            "   macro avg       0.90      0.90      0.90      1029\n",
            "weighted avg       0.90      0.90      0.90      1029\n",
            "\n"
          ]
        },
        {
          "output_type": "display_data",
          "data": {
            "text/plain": [
              "<Figure size 640x480 with 2 Axes>"
            ],
            "image/png": "[encoded data removed]"
          },
          "metadata": {}
        }
      ]
    },
    {
      "cell_type": "code",
      "source": [
        "# SETUP & RUN BERNOULLI NAIVE BAYES GRIDSEARCH TRAINING & TESTING\n",
        "\n",
        "bnb = pipeBuild_BernoulliNB()\n",
        "\n",
        "names=['Bernoulli NB']\n",
        "pipes=[bnb]\n",
        "\n",
        "\n",
        "samples = np.arange(len(X_train[0,:]))\n",
        "\n",
        "# iterate over classifiers\n",
        "for j in range(len(names)):\n",
        "\n",
        "    today = date.today()\n",
        "    now = today.strftime(\"%b-%d-%Y\")\n",
        "    save_file = str(names[j]) + '-' + str(now) + '-HeatMap.png'\n",
        "\n",
        "    grid_search = GridSearchCV(estimator=pipes[j][0], param_grid=pipes[j][1], scoring='neg_mean_squared_error',cv=5, verbose=1, n_jobs=-1)\n",
        "    grid_search.fit(X_train, y_train)\n",
        "    score = grid_search.score(X_test, y_test)\n",
        "    print(\"Best parameter (CV score=%0.3f):\" % grid_search.best_score_)\n",
        "    print(grid_search.best_params_)\n",
        "    y_pred = grid_search.predict(X_test)\n",
        "    print(classification_report(y_test, y_pred))\n",
        "    ConfusionMatrixDisplay.from_estimator(grid_search, X_test, y_test, xticks_rotation=\"vertical\")\n",
        "\n",
        "plt.tight_layout()\n",
        "plt.show()"
      ],
      "metadata": {
        "colab": {
          "base_uri": "https://localhost:8080/",
          "height": 706
        },
        "id": "VZgyzm40hLJ7",
        "outputId": "e118109b-dd68-497c-8e18-533c27fc43b1"
      },
      "execution_count": 6,
      "outputs": [
        {
          "output_type": "stream",
          "name": "stdout",
          "text": [
            "Fitting 5 folds for each of 1 candidates, totalling 5 fits\n",
            "Best parameter (CV score=-0.255):\n",
            "{'mnb__alpha': 1.0, 'mnb__binarize': 0.0, 'mnb__class_prior': None, 'mnb__fit_prior': True}\n",
            "              precision    recall  f1-score   support\n",
            "\n",
            "           1       0.70      0.81      0.75       513\n",
            "           2       0.78      0.66      0.71       516\n",
            "\n",
            "    accuracy                           0.73      1029\n",
            "   macro avg       0.74      0.73      0.73      1029\n",
            "weighted avg       0.74      0.73      0.73      1029\n",
            "\n"
          ]
        },
        {
          "output_type": "display_data",
          "data": {
            "text/plain": [
              "<Figure size 640x480 with 2 Axes>"
            ],
            "image/png": "[encoded data removed]"
          },
          "metadata": {}
        }
      ]
    }
  ]
}