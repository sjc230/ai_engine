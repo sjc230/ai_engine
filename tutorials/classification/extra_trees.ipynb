{
  "nbformat": 4,
  "nbformat_minor": 0,
  "metadata": {
    "colab": {
      "provenance": []
    },
    "kernelspec": {
      "name": "python3",
      "display_name": "Python 3"
    },
    "language_info": {
      "name": "python"
    }
  },
  "cells": [
    {
      "cell_type": "markdown",
      "metadata": {
        "id": "view-in-github"
      },
      "source": [
        "<a href=\"https://colab.research.google.com/github/iotanalytics/IoTTutorial/blob/main/code/clustering_and_classification/KNN.ipynb\" target=\"_parent\"><img src=\"https://colab.research.google.com/assets/colab-badge.svg\" alt=\"Open In Colab\"/></a>"
      ]
    },
    {
      "cell_type": "markdown",
      "metadata": {
        "id": "Yhd5NK-EXjTA"
      },
      "source": [
        "##EXTRA TREES CLASSIFICATION\n",
        "\n",
        "From: **Towards Data Science**\n",
        "\n",
        "*Modified: Stephen Coshatt*\n",
        "\n",
        "<br/>\n",
        "\n",
        "**References:**\n",
        "\n",
        "1.   https://towardsdatascience.com/what-when-how-extratrees-classifier-c939f905851c\n",
        "2.   https://www.baeldung.com/cs/random-forest-vs-extremely-randomized-trees\n",
        "3.   https://blog.tdg.international/exploring-extra-trees-82d1e87c302a\n",
        "\n",
        "\n",
        "</br>\n",
        "\n",
        "##What is ExtraTrees models?\n",
        "\n",
        "Similar to Random Forests, ExtraTrees is an ensemble ML approach that trains numerous decision trees and aggregates the results from the group of decision trees to output a prediction. However, there are few differences between Extra Trees and Random Forest.  [1]\n",
        "\n",
        "Random Forest uses bagging to select different variations of the training data to ensure decision trees are sufficiently different. However, Extra Trees uses the entire dataset to train decision trees. As such, to ensure sufficient differences between individual decision trees, it RANDOMLY SELECTS the values at which to split a feature and create child nodes. In contrast, in a Random Forest, we use an algorithm to greedy search and select the value at which to split a feature. Apart from these two differences, Random Forest and Extra Trees are largely the same. So what effect do these changes have?  [1]\n",
        "\n",
        "* Using the entire dataset (which is the default setting and can be changed) allows ExtraTrees to reduce the bias of the model. However, the randomization of the feature value at which to split, increases the bias and variance. The paper that introduced the Extra Trees model conducts a bias-variance analysis of different tree based models. From the paper we see on most classification and regression tasks (six were analyzed) ExtraTrees have higher bias and lower variance than Random Forest. However, the paper goes on to say this is because the randomization in extra trees works to include irrelevant features into the model. As such, when irrelevant feature were excluded, say via a feature selection pre-modelling step, Extra Trees get a bias score similar to that of Random Forest.  [1]\n",
        "\n",
        "* In terms of computational cost, Extra Trees is much faster than Random Forest. This is because Extra Trees randomly selects the value at which to split features, instead of the greedy algorithm used in Random Forest.  [1]\n",
        "\n",
        "##When should you use ExtraTrees?\n",
        "\n",
        "Random Forest remains the go-to ensemble tree based model (with recent competition from XGBoost Models). However, from our prior discussion on the differences between Random Forest and Extra Trees, we see that ExtraTrees have value, especially when computational cost is a concern. **Specifically, when building models that have substantial feature engineering/feature selection pre-modelling steps, and computational cost is an issue ExtraTrees would be a good choice over other ensemble tree-based models.**  [1]\n",
        "\n",
        "##Parameters\n",
        "\n",
        "* **K** is the max_feature in Scikit-learn documentation and refers to the number of features to be considered at each decision node. The higher the value of K, more features are considered at each decision node, and hence lower the bias of the model. However, too high a value of K reduces randomization, negating the effect of the ensemble.\n",
        "* **nmin** maps to min_sample_leaf, and is a minimum number of samples required to be at a leaf node. The higher its value, the less likely the model is to overfit. Smaller numbers of samples result in more splits and a deeper, more specialized tree.\n",
        "* **M** maps to n_estimators, and is a number of trees in the forest. The higher its value, the lower the variance of the model.\n",
        "\n",
        "## Takeaways\n",
        "\n",
        "* ExtraTrees Classifier is an ensemble tree-based machine learning approach that uses relies on randomization to reduce variance and computational cost (compared to Random Forest).\n",
        "* ExtraTrees Classifier can be used for classification or regression, in scenarios where computational cost is a concern and features have been carefully selected and analyzed.\n",
        "* Extra Trees can be implemented from Scikit-learn. The three hyperparameters important for tuning are max_feature, min_samples_leaf, and n_estimators.\n",
        "\n",
        "\n",
        "###Advantages\n",
        "*   Reduction in bias. This is in terms of sampling from the entire dataset during the construction of the trees. Different subsets of the data may introduce different biases in the results obtained, hence Extra Trees prevents this by sampling the entire dataset. [2] [3]\n",
        "*   Reduces Variance. This is a result of the randomized splitting of nodes within the decision trees, hence the algorithm is not heavily influenced by certain features or patterns in the dataset.  [2] [3]\n",
        "*   One of the key advantages of extra trees is their computational efficiency. [3]\n",
        "*   Robustness to Outliers and Noisy Data: Extra trees are less sensitive to outliers and noisy data, making them suitable for dealing with real-world datasets that often contain irregularities. [3]\n",
        "*   Extra trees are particularly effective in handling high-dimensional datasets. [3]\n",
        "*   Overfitting Prevention: Extra trees introduce additional randomness in the decision tree building process, which helps prevent overfitting and reduces model complexity. [3]\n",
        "*   Fast Training: The use of random feature thresholds and randomized feature subspace selection accelerates the training process, making extra trees faster to train compared to traditional decision trees. [3]\n",
        "*   High Accuracy: Despite their simplicity, extra trees can achieve high predictive accuracy, especially when trained on large datasets. [3]\n",
        "\n",
        "###Disadvantages\n",
        "*   Less interpretable. Extra Trees introduces additional randomness by selecting random subsets of features and splitting the nodes using random thresholds. This randomness helps reduce overfitting and improves performance. However, it also makes the resulting model less interpretable. [3]\n",
        "*   Hyperparamater Tuning.  Small changes in parameters can lead to large changes in results [3]"
      ]
    },
    {
      "cell_type": "code",
      "metadata": {
        "colab": {
          "base_uri": "https://localhost:8080/"
        },
        "id": "zGTwSej2XgjC",
        "outputId": "dc280c50-903c-4fb6-9b00-e2ff4974c507"
      },
      "source": [
        "!pip install sktime\n",
        "!pip install tslearn"
      ],
      "execution_count": 1,
      "outputs": [
        {
          "output_type": "stream",
          "name": "stdout",
          "text": [
            "Collecting sktime\n",
            "  Downloading sktime-0.24.1-py3-none-any.whl (20.7 MB)\n",
            "\u001b[2K     \u001b[90m━━━━━━━━━━━━━━━━━━━━━━━━━━━━━━━━━━━━━━━━\u001b[0m \u001b[32m20.7/20.7 MB\u001b[0m \u001b[31m33.0 MB/s\u001b[0m eta \u001b[36m0:00:00\u001b[0m\n",
            "\u001b[?25hRequirement already satisfied: numpy<1.27,>=1.21 in /usr/local/lib/python3.10/dist-packages (from sktime) (1.23.5)\n",
            "Requirement already satisfied: packaging in /usr/local/lib/python3.10/dist-packages (from sktime) (23.2)\n",
            "Requirement already satisfied: pandas<2.2.0,>=1.1 in /usr/local/lib/python3.10/dist-packages (from sktime) (1.5.3)\n",
            "Collecting scikit-base<0.7.0 (from sktime)\n",
            "  Downloading scikit_base-0.6.1-py3-none-any.whl (122 kB)\n",
            "\u001b[2K     \u001b[90m━━━━━━━━━━━━━━━━━━━━━━━━━━━━━━━━━━━━━━━━\u001b[0m \u001b[32m122.4/122.4 kB\u001b[0m \u001b[31m8.9 MB/s\u001b[0m eta \u001b[36m0:00:00\u001b[0m\n",
            "\u001b[?25hRequirement already satisfied: scikit-learn<1.4.0,>=0.24 in /usr/local/lib/python3.10/dist-packages (from sktime) (1.2.2)\n",
            "Requirement already satisfied: scipy<2.0.0,>=1.2 in /usr/local/lib/python3.10/dist-packages (from sktime) (1.11.4)\n",
            "Requirement already satisfied: python-dateutil>=2.8.1 in /usr/local/lib/python3.10/dist-packages (from pandas<2.2.0,>=1.1->sktime) (2.8.2)\n",
            "Requirement already satisfied: pytz>=2020.1 in /usr/local/lib/python3.10/dist-packages (from pandas<2.2.0,>=1.1->sktime) (2023.3.post1)\n",
            "Requirement already satisfied: joblib>=1.1.1 in /usr/local/lib/python3.10/dist-packages (from scikit-learn<1.4.0,>=0.24->sktime) (1.3.2)\n",
            "Requirement already satisfied: threadpoolctl>=2.0.0 in /usr/local/lib/python3.10/dist-packages (from scikit-learn<1.4.0,>=0.24->sktime) (3.2.0)\n",
            "Requirement already satisfied: six>=1.5 in /usr/local/lib/python3.10/dist-packages (from python-dateutil>=2.8.1->pandas<2.2.0,>=1.1->sktime) (1.16.0)\n",
            "Installing collected packages: scikit-base, sktime\n",
            "Successfully installed scikit-base-0.6.1 sktime-0.24.1\n",
            "Collecting tslearn\n",
            "  Downloading tslearn-0.6.2-py3-none-any.whl (369 kB)\n",
            "\u001b[2K     \u001b[90m━━━━━━━━━━━━━━━━━━━━━━━━━━━━━━━━━━━━━━━━\u001b[0m \u001b[32m369.8/369.8 kB\u001b[0m \u001b[31m5.2 MB/s\u001b[0m eta \u001b[36m0:00:00\u001b[0m\n",
            "\u001b[?25hRequirement already satisfied: numpy in /usr/local/lib/python3.10/dist-packages (from tslearn) (1.23.5)\n",
            "Requirement already satisfied: scipy in /usr/local/lib/python3.10/dist-packages (from tslearn) (1.11.4)\n",
            "Requirement already satisfied: scikit-learn in /usr/local/lib/python3.10/dist-packages (from tslearn) (1.2.2)\n",
            "Requirement already satisfied: numba in /usr/local/lib/python3.10/dist-packages (from tslearn) (0.58.1)\n",
            "Requirement already satisfied: joblib in /usr/local/lib/python3.10/dist-packages (from tslearn) (1.3.2)\n",
            "Requirement already satisfied: llvmlite<0.42,>=0.41.0dev0 in /usr/local/lib/python3.10/dist-packages (from numba->tslearn) (0.41.1)\n",
            "Requirement already satisfied: threadpoolctl>=2.0.0 in /usr/local/lib/python3.10/dist-packages (from scikit-learn->tslearn) (3.2.0)\n",
            "Installing collected packages: tslearn\n",
            "Successfully installed tslearn-0.6.2\n"
          ]
        }
      ]
    },
    {
      "cell_type": "code",
      "source": [
        "from math import radians\n",
        "import sys\n",
        "import os\n",
        "import numpy as np\n",
        "import matplotlib.pyplot as plt\n",
        "import pandas as pd\n",
        "from pandas import read_csv\n",
        "from pathlib import Path\n",
        "\n",
        "#import streamlit as st\n",
        "\n",
        "import re\n",
        "import pytz\n",
        "from datetime import datetime\n",
        "from datetime import date\n",
        "\n",
        "import enum\n",
        "from matplotlib.colors import ListedColormap\n",
        "from sklearn.model_selection import train_test_split\n",
        "from sklearn.preprocessing import StandardScaler\n",
        "from sklearn.pipeline import Pipeline\n",
        "from sklearn.model_selection import GridSearchCV\n",
        "from sklearn.metrics import ConfusionMatrixDisplay, classification_report, RocCurveDisplay, auc, roc_curve, roc_auc_score\n",
        "\n",
        "from sklearn.ensemble import ExtraTreesClassifier\n",
        "from sklearn.tree import DecisionTreeClassifier\n",
        "\n",
        "from plotly.subplots import make_subplots\n",
        "import plotly.graph_objects as go\n",
        "import plotly.express as px"
      ],
      "metadata": {
        "id": "q_BkVD8bGXVj"
      },
      "execution_count": 4,
      "outputs": []
    },
    {
      "cell_type": "code",
      "source": [
        "# GET TIME SERIES DATASET\n",
        "# steps 1, 2 - prepare osuleaf dataset (train and new)\n",
        "from sktime.datasets import load_italy_power_demand\n",
        "\n",
        "X_train, y_train = load_italy_power_demand(split=\"train\", return_type=\"numpy2D\")\n",
        "X_test, y_test = load_italy_power_demand(split=\"test\", return_type=\"numpy2D\")\n",
        "\n",
        "print(\"shape of X_train \",X_train.shape)\n",
        "print(\"shape of y_train \",y_train.shape)\n",
        "print(\"shape of X_test \",X_test.shape)\n",
        "print(\"shape of y_test \",y_test.shape)\n",
        "\n",
        "y_train = y_train.astype(int)\n",
        "y_test = y_test.astype(int)\n",
        "\n",
        "n_classes = int(np.amax(y_train))\n",
        "print(\"number of classes is \",n_classes)"
      ],
      "metadata": {
        "colab": {
          "base_uri": "https://localhost:8080/"
        },
        "id": "cILRPjIAGovr",
        "outputId": "4b49456a-4ab9-41fd-a484-acf199b9e89a"
      },
      "execution_count": 3,
      "outputs": [
        {
          "output_type": "stream",
          "name": "stdout",
          "text": [
            "shape of X_train  (67, 24)\n",
            "shape of y_train  (67,)\n",
            "shape of X_test  (1029, 24)\n",
            "shape of y_test  (1029,)\n",
            "number of classes is  2\n"
          ]
        }
      ]
    },
    {
      "cell_type": "code",
      "source": [
        "# CLASSIFIER GRID SEARCH SETUP\n",
        "\n",
        "# EXTRA TREES CLASSIFIER\n",
        "def pipeBuild_ExtraTreesClassifier(n_estimators=[100],criterion=['gini'],max_depth=[None],min_samples_split=[2],min_samples_leaf=[1],max_features=['sqrt'],random_state=None):\n",
        "  classifier = ExtraTreesClassifier(random_state=random_state)\n",
        "  pipeline = Pipeline(steps=[('extra', classifier)])\n",
        "\n",
        "  params = [{\n",
        "      'extra__n_estimators': n_estimators,\n",
        "      'extra__criterion': criterion,\n",
        "      'extra__max_depth': max_depth,\n",
        "      'extra__min_samples_split': min_samples_split,\n",
        "      'extra__min_samples_leaf': min_samples_leaf,\n",
        "      'extra__max_features': max_features,\n",
        "  }]\n",
        "  return pipeline, params"
      ],
      "metadata": {
        "id": "Pwvk4KbGGs3z"
      },
      "execution_count": 5,
      "outputs": []
    },
    {
      "cell_type": "code",
      "source": [
        "# SETUP & RUN BAGGING GRIDSEARCH TRAINING & TESTING\n",
        "\n",
        "ex = pipeBuild_ExtraTreesClassifier()\n",
        "\n",
        "names=['Extra Trees']\n",
        "pipes=[ex]\n",
        "\n",
        "\n",
        "samples = np.arange(len(X_train[0,:]))\n",
        "\n",
        "# iterate over classifiers\n",
        "for j in range(len(names)):\n",
        "\n",
        "    today = date.today()\n",
        "    now = today.strftime(\"%b-%d-%Y\")\n",
        "    save_file = str(names[j]) + '-' + str(now) + '-HeatMap.png'\n",
        "\n",
        "    grid_search = GridSearchCV(estimator=pipes[j][0], param_grid=pipes[j][1], scoring='neg_mean_squared_error',cv=5, verbose=1, n_jobs=-1)\n",
        "    grid_search.fit(X_train, y_train)\n",
        "    score = grid_search.score(X_test, y_test)\n",
        "    print(\"Best parameter (CV score=%0.3f):\" % grid_search.best_score_)\n",
        "    print(grid_search.best_params_)\n",
        "    y_pred = grid_search.predict(X_test)\n",
        "    print(classification_report(y_test, y_pred))\n",
        "    ConfusionMatrixDisplay.from_estimator(grid_search, X_test, y_test, xticks_rotation=\"vertical\")\n",
        "\n",
        "plt.tight_layout()\n",
        "plt.show()"
      ],
      "metadata": {
        "colab": {
          "base_uri": "https://localhost:8080/",
          "height": 706
        },
        "id": "yxP_4ASWHI_O",
        "outputId": "1d197665-9cce-4d62-ff79-fbf0e7c7b11a"
      },
      "execution_count": 6,
      "outputs": [
        {
          "output_type": "stream",
          "name": "stdout",
          "text": [
            "Fitting 5 folds for each of 1 candidates, totalling 5 fits\n",
            "Best parameter (CV score=-0.044):\n",
            "{'extra__criterion': 'gini', 'extra__max_depth': None, 'extra__max_features': 'sqrt', 'extra__min_samples_leaf': 1, 'extra__min_samples_split': 2, 'extra__n_estimators': 100}\n",
            "              precision    recall  f1-score   support\n",
            "\n",
            "           1       0.97      0.97      0.97       513\n",
            "           2       0.97      0.97      0.97       516\n",
            "\n",
            "    accuracy                           0.97      1029\n",
            "   macro avg       0.97      0.97      0.97      1029\n",
            "weighted avg       0.97      0.97      0.97      1029\n",
            "\n"
          ]
        },
        {
          "output_type": "display_data",
          "data": {
            "text/plain": [
              "<Figure size 640x480 with 2 Axes>"
            ],
            "image/png": "[encoded data removed]"
          },
          "metadata": {}
        }
      ]
    }
  ]
}