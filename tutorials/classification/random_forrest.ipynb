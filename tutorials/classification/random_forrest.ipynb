{
  "nbformat": 4,
  "nbformat_minor": 0,
  "metadata": {
    "colab": {
      "provenance": []
    },
    "kernelspec": {
      "name": "python3",
      "display_name": "Python 3"
    },
    "language_info": {
      "name": "python"
    }
  },
  "cells": [
    {
      "cell_type": "markdown",
      "metadata": {
        "id": "view-in-github"
      },
      "source": [
        "<a href=\"https://colab.research.google.com/github/iotanalytics/IoTTutorial/blob/main/code/clustering_and_classification/SVM.ipynb\" target=\"_parent\"><img src=\"https://colab.research.google.com/assets/colab-badge.svg\" alt=\"Open In Colab\"/></a>"
      ]
    },
    {
      "cell_type": "markdown",
      "metadata": {
        "id": "MrgCSAQnDxGy"
      },
      "source": [
        "## Random Forest\n",
        "From **Data Camp** and **Medium**.  See references [1] & [2]\n",
        "\n",
        "Modified: **Stephen Coshatt** with more references and descriptions\n",
        "</br></br>\n",
        "\n",
        "\n",
        "**Random Forests** are a non-parametric supervised ensemble learning method used for classification and regression. A randomd forest uses an ensemble of dectision trees.\n",
        "\n",
        "**How Random Forest Classification works**\n",
        "\n",
        "Imagine you have a complex problem to solve, and you gather a group of experts from different fields to provide their input. Each expert provides their opinion based on their expertise and experience. Then, the experts would vote to arrive at a final decision. [1]\n",
        "\n",
        "In a random forest classification, multiple decision trees are created using different random subsets of the data and features. Each decision tree is like an expert, providing its opinion on how to classify the data. Predictions are made by calculating the prediction for each decision tree, then taking the most popular result. (For regression, predictions use an averaging technique instead.) [1]\n",
        "\n",
        "In the diagram below, we have a random forest with n decision trees, and we’ve shown the first 5, along with their predictions (either “Dog” or “Cat”). Each tree is exposed to a different number of features and a different sample of the original dataset, and as such, every tree can be different. Each tree makes a prediction. Looking at the first 5 trees, we can see that 4/5 predicted the sample was a Cat. The green circles indicate a hypothetical path the tree took to reach its decision. The random forest would count the number of predictions from decision trees for Cat and for Dog, and choose the most popular prediction. [1]\n",
        "\n",
        "![image_dab23a4c33.png](data:image/png;base64,iVBORw0KGgoAAAANSUhEUgAAA0EAAAHACAMAAABTUJO/AAAArlBMVEX///+9wLzV1dWAgYJrbGzr6+usrqykwvTZ6tNZWVkDAAOVlZZkZ219jaaateB4enhsdICRqM2LjYqHmrl1gJPKysqmp6j29fXg4ODJ2MSZoZZkZGSenp4GVqXp//9eXl7//+YEEUykVQSc2f1JEALlpVPGgRNdqOX9+cnG+v8DgMX/5a34xIIACYKACADa+v4mSHhAREJCgr+2iGHy1aLOroJ9PBlhQCSOY0Ox2tsRYJVVAAAACXBIWXMAAAsTAAALEwEAmpwYAAAgAElEQVR4nO1dDXfbts4WJZI2rA9/xo7ttm7atM2W3C7rum77/3/sHkqyrA/QohVRpiw+5z33XZNQokAABEAQcBwLCwsLCwsLCwsLCwsLCwsLCwsLCwsLCwsLCwsLCwsLCwsLCwsLCwsLCwsLCwsLCwsLCwsLCwsLCwsLCwsLi6GCXXsCFv0DI9zziesMHYIOANTziRUjh3Df564lhALb+ACULqYAlDuDhgtAFzvCF9PBk4JTQYspBfCsDNWyDd1tx+PxeLvllA55H1rDQtAhpsVu0JzDPEh4YrwlU7Abch2tjmwjGGe42xCjlJwoMd4OWJsQmOZIsaNDVia18ApsMx7vYKgi5E0LhBhvF9QZJty8Uh2Px4RSK0IyECgK0HjMB6p6eYUSW+o7QwQrCZCgxFDVagNijcfTQapejBIEiDNAeLRCiR3YTUjNchmu6sUoMd4NUZmQymY8Ho8X1o7DgRFrmHwDHKHEFgZo0XrVzXg8Hg+REgoggBGLDHDLdiEJ3lq+cRBzdjwe00EatLXgVYt3oJoX1yXj6fA8aIbaJePFEE37evjZCeLQ+cbH3KDxeOc5Q4OL65IBUkIFFN2wx9Ph6RsrQeftkjGB7C8sagJQ4/EAo/8Svhmg7UJwj3CQ4aXGfDPAYxBJJGGA/rOLU2JhrTiUWqgEDTEWJ/GfB0gJh2Jx/SH6xs35hg/R5PWwoIqlxJDjs80doUHmJJBShm3CNkNUvBwz46wbJIHNi8vgVy3aYWYIOpRWRIjYLUgGsi+r3qESix3KdhwfKiX2ldxsGKJZooTN4lBSOARg7QwQ7hRK6SyDvSlFoJQkuJ0evPtrz8pM3FGAfeFYdQd7gAGSi4OoFZEjxXY6wFMxAbYQpJjm9CoRPHEYXlxfAWsAmLocjk50XCfhbg8wtAOhew8A3m3YGhaciIIRu8GWSbijYvldCjyVITIFHkuVv7n23EzD/RQSi42JAk8LUasHxLFZTK7FkPiHHI461vWFLIl6V8PcgJx3kJogPgWY7haiYo973KPvrj07s5CnCXOJ73F+dJyHRa6NX9AYzB1u3Tz3qFTjf4gagvxYp6fwK4t0o5Huy4lVMyCzZaA7TgnnNWe2PVkItqlzdhIXaQC0GsyH1qLW2Rmih/wGdTIM1TykzbYGpD7gNjwPWQI1k7bkHtwkCADsB+PwnYWajUYG5SGftXZV7JZb5y+rUjO4qhaH3bTj0LVqaP+2yZWcfFx7FsYo1amiMzh0x/F09DF0ctnQUkNFOQwPuTXfRnl77xns8UbRWL9kLx6Ch9yiOMTkurkMl2GdGbcuDhcL3Y2goUl2oeHXA9g0r7eaZLftIbf+0ZcEH27k5GMoWDf2cy8JPtwG3hSaVg6A9wAbG0JoZSe5VQ9Zk/N3O453/CXDWXiNzuBtesj6ApA3ormHZ3xoPE++PQ/5HPdP38r9t5BXmN6ku/Y0TMBdG8s5kJBMWxZY/8kldOYQg7AaTYpb8pA7OPro9ynKgA8CNbq1t+Mhn8BY7pJluxtHdjH8+HSjr3Myzj0/m+Ggk1Gcwkq1qwlL2xlzTeaJenChaEXZGd89Hn206rycXCqXxyUFqJe8yTQwX1AhKf7AbjvDrw5MrFQAQH2uxRo/uVTxm2Lu66utzDxY7ESxGb6IizVpCKAdVTmHIAznUbRczUwsC+XCsXKVKEDEB3mGnkKs1HI+iubLFVCmI4B2lEkXqGC/Ld8txJt6CJLVrYorv1EtdstGkMujwXx0RGgeuTjkCpBud0D77MC9CcyDMFupaEanWk4lYrtwCn0vt8eLRTe3u72eMIlIb5hlqyIWJjQsHOOXyshv90MNIbgQRIWV0uQMCg+5QPTtrn+Vgt1KK5PFQU/s+S6n1tJtyKhdqEqJbd9PsprCK6i60Wg01xVNofsSzUnvaF7tZLLV1MeksiyjKDBJ4dBqL6CdUSLeGTjkdyCdyo5UW1H1jeY+0oNZTx8GDicf6KTazFE4HtKZbzsdYhdDF1kpPcoOa6PTN5qj7egWOjrgVGw4gZU5vXZKnQeOysQZHvyKsRArO7ejXuj9anyHt2AmGvjarVoG8bo4hoChlOjXarYEukRWaqSDEoUGIBl6FY8jiBGnh28IYMsSGcOhOCX6tZotATBdN5qtO9r3x70y4/xFV43tUdNgNApM4VDUoOjZaurUdaOwfUq46L7fr+6r+Daqo4m5t0LXZeaZrUt6tZrtgAfoSi1pV/u+DidCG7xdV7ZLNZYdY2VKPJvje9DClPldX4Kg9Te5SPgz7kTr9AcS20WDFcclVpwp4WzJalJT5tcdXNwP0qDrGBoJHi9MsUtUwFG+IdD+oZaLazYNb2p1NQ06sOoKDDkO0uSxSiSoT/s+7svp2EbxddFgGrS6mtwYCe8QHnZyN9KhS3Anolf7PnYoPB5PdSgBwEIJM3OcRh/bjgcYinMcDzMXljp0CWoC6bCANIKU8pEFdloOaUjuZoPWg+6GYFheXL8WsyUwRNlFWlJLMZqPNaVldpgOttWUh+tXVZtRqezV3Gw9CYLmg1SVnaZThyrNx1NzzBI1uPlbZbEATad63sToylwbLp7fvmjSbvc9SxNuDdPC9SARiNMVUfHptu+3G3yAff4jxEU4TSUSSene1sysG3aiVkRehHaDrTFyB4d9PpoQUW2UYLR4qL8DWDi9ggsw9U4fsd2Bp49vmBecFiYEs7z0OwDPpZQnZsWWTCk/gKbt2HBMAXxYZdpuCXQPuswFxmGRaXBCxX3yfl2s9wDuGAc6XXCy203FBW991BLkClbhPJqHM+P0+xTAddha3NxPavXEu5JRu2RH4AC+w2gQrJbzZbJS7zRSgtGY+7aC/bxYpTs9AhHEEnXBfE+UoOKCq3VSK32TKKHEDGSbpG6e73EeU8AdZKUedoADK62UVkoc3+TFPOH3qkr0Zg9ZvDbjaO18w1xj2aYECntncPBz5kFGkikc9L41exMDfTZQ+3iH2lLaqdUbSqz7ZpS3ABc1o3h3O8PaOANfDonNyYfHNxJK3PcuMtSOZ+xUwLqjxGaPmQN9IlaX1DKcEuLnfW470dwzrsA72fu6wXvjfhKZpHRILcMpQXrl1rbsGRdAOrStqLYjyXaxkU60S2qZwjY4JTZxVNsZuj/oOM6mw8MxqUIzDGtpB5cuqWUC3sl72Sx6og5bgisPhPkdUsLrxUHcPQDdGEAtMygh+93dzTWKauQPOt0ejrm92PoXZ0z8YfHNOUrozNAwD+Sc+UQ7pMTZJTEoDcwxglrXxnmrW2uGhmmg52yPLg/HzpkFpoCe5YwhHSWej/y4kujuLWJ91vS475IS0oiGMaiJuXdKreui7vRhCpq6wfTKM+76cIwdYG802RnUTHAwR4n3dZToMJ/lyljUfGmnh2PccFe8NgF2MEeJtT7rYDI07uoCYN0ejlGjj/VriSX4pgfxxC4oIWTM4KVs+YLUWXR6OCZLL+oLsYZylKhAiYFkaPD68567TimhsDRXv01mDrWuBZUkxmFkaDBQiJh0ejh2Z675jN8mG9BRIruMErnL3rdrzvkqjm+3h2MLk45UmMu55xP3glh7Si3mcj8b2X8wvk7uLsdflL+OKUeSz8I4T0feihi5xPc87safc6dUnuCY2eMSnx5HapxfOqeEBfk16c5EEYTpYkEBKFOt5RBTS4wMZqsZAPi3wDguBLMwnM+Xqxlw5aoW4rK3C3S644TzBb2NvnYcAFarWRCI6jKqTkd8ffk4UhQ30r8vJsy7E9Vfrla+jwBNu+1tCaVCkyptjlPYczhWr4zmwQ0wzjpXz3YJypWV1gDTXCm53fWWsjUwD5ZpOav5CnwVz/h4SlMYudZJCVEywT0x73Z6JRb08nUEt6KOoJqDJlRNru5eFPY9tMBooZptFB4U46Xi1DVfnXY77VV7AQQEZjlSzIODYsSeAcAsVzZzGXg6RWhdKYJ5Dd3llWrLbym9b8Jwo1EUGBygb9JGL9wreqrTUqOy7a7fu5CbV41JVV/FBACv1MQmmumkxIZWmdfpGtXa3lvFbANe6fizNDdArwBS+Z5IsXD3utJladvrtiisLECjkaJyxEauu2VebkCDIDUFihBrtOpxgBv7HrWeHkiDgSuspN4GQZFaizpk5Fxj+hfSHIV3XWy92txEVYFirYP7bMf5WCPXpYoy8aa31eTbxdoJhiqOEEdHarPjMObtvDsKpIGMAohK70W0H+28v3xDl8j3RCp2KUrDbX8tWlSXjFR6QnfXHzIGxZmXXb9PqsrqE8CINe9vkiXeoXrGG9Kwxz2KcTmYKZgXiCGssx97Y+ZtEQSwxR8rxNU52ntbSWcbCSKRIK8pDaf8tnp1r7zGIzWZ9kYQ3kf6VKq1GvaxxsFKOttM4HvqKKRNabjrazSO4ZRY1pv2rmSkJtOeY/5n192hPXz1F17DrV5przcS+J6qwjeShVSgoZmQ6JJ5PSVI0HRkI/g44buN4chW328UihM2b1/3IBdffQULBG3ZrkRDM+Hi9uySNh2psI83ghGEd/FJKCSlSHR2b/1niQ2vcB4oiST0N7EHjUqOFOSA4RKkyw9yJU58p4RnyGGgiCOxhjZvn2Nxy4YaoTkNDQXFY3FcYeSyS7tERngDJIhDU52t4DaYCtQsXarIAepMqtDQUOBBIlCQA2/VaXy22OY7I3y3qsvHzDjqN0vgGI1MLv5QA4ZtQkrfc2tZPdUEwZGiM8MxM04xubABOEXs564zEhmSWrSgTfPI9BGrA6yDqOH3IGqo15mlCCXmahuJ13hkEzAkn2rXufVcVaBE8ZNJcFu52axix6kuflUN7XpNCcQTCtQ0AquMjHQWRqzmRasyb4vYTPfFWXCYqlUjZXRfFKGw5yXk9nAoaFDlK4ObA+wL9oQHinesDIULYYESc7pXdM+n1ZE6q4F4+6LuIlcg/F3lmp9qIThSuqMqiiVsel4WOjh9UDRTvjN8B7DPebWE7k2qItMEhBZumoJqb6ANwKE8UqNDuAGA6bbIvJ0fIqwBCKW7xJTb7ihVrgMt6uHSYJnsQ1EItOd9uUQhYw7BajkfRfNwdsGG+g7gjgNdcDLe8t0UPLf3xfSYB6t5IgrLGfCDIjVEYykK4WnkO619ue4B3hWY9xo15Dw4OIwDUCqqnYAnZqVmue5hGo9MavVQLsjXZ83ri1oAzBclq0TRqgtEIO6mlI3krigX0JNu03IQCjCbrZKKO1PF4oDvhBLl2UjfdQ46WfoOgAgWhJh5qXeNjgibVGgZ8T3OYy9MUYzdRNJYPDLete77rXnpsbQVu7D6HcsK2WQjtfJNV2CuqCEYh7Z8RcZMJS03UlX2GoGkNQsJ8RMWFOVvOtbiiL2h+M28UkFs02vNKyyCZiORPhZa+eYK4Grl4k66JMNCVJDThXXFb2i+ii2SZgGgav6VsO9zMI401l5I8wZFGvYGd2rOMaJL3unsbIFsjZ33J0XkgCsFBI7m381o3tgNagThEHbJN1cAU1PtiC5JDS098GCPemJdAgmyqAUEMK3Ua83bWHmlDmF3fHMNHJQcO0SXKO5eb3RdC+/r1BnHwq5qwThM1tc91ryICf8GH0Er31wDUxX9gukS5dBuS3LdbSM9iYeoFIzDVHafNW/ztpaIIayXb64BXyUYh3HTRmOrOdS2XHQbz0ZfN1XoWIDGPNwea97GngvmEAot1N8sdQxcxb3AdAlmabUF9Pik43g2Gj1TcWfQyBXrseZtHAXBDW+NfHMV3CkoR1yXIN6+1kndd6q8cGNDRd/ge6W5ffn0uUF48Ecj31wF9wrKEdclqoexDYB7DZ3Gs/EzEJVgHJ4o1V/N29z1xzcvjXxzHUC9csR1idrhSCPgkatO49n4TqKQnSNJneyv5m1MdsnmpZFvjLVyp+ifaMyW9FF3o9N4tmTPqNc3azzq1t+DxMZukCSG1/Ms2yabqkSXaMxT9/BFU00kbwGyJKJ6YwyNuiinT5kH3Al+QypDz7Nsm2yqEl2iMU9dwqcdxrNlqWC1wTgZw/VW8zZ3g5Bj+P5n2SKop5AsLUrfliDhwuYZjhdD9s3VlFdFcvZW89Z+8cUxql5n2SKoD8ZJdIm+bEnZ7tY8rnoxZNZa7VYiu42q8wBaKxqHQKR2a6+zbDHU2blSEdOWLSn1sDqjvdRCrd1KpCH3nmre5m6QJ2OPXmfZYqhjS2kugLZsSamil8S5OkwFq2Mo+TWmnmpe0tT6vAfJNs5EFYmexiWbqQRP5r9ry5aUBje6KVPB+HoKh0V6Obbwi/i+P01v6VYHEjFw6leuQjO+FiOp5/cqHpd+L1DvUqpnA/0SpVwKALNA/OpGhIgflxZXueJWNxwOVZ5weEykQDawOZjLp+gbGRGv3B9vmesC8yCYhcvlaiZKhOQhas7syJbwxRSr9sTWEARhiAwk4onzaC5+1aNwggtBGIrqPMtVcFEbaEYFocbbLV/QIik8WC3jYjXzMOhvqm0OLhXMEkViaTGdQACCVcwTUOw6LNgsDOfxwFb7ETNPVBfZxfVF3MpcwjDmQuVqZQ3AIavOGoV5ojDvVDxuu6t+tQvBsbq0qG9VGHgqtba8jBeviMK0o/CCLgMcThVnt7scDV2ar+UaBv3fhtZwKuYaBRW+zNOwWGQvx2aXlN+rhwtZE+LtLq+vC3MJ9eU559kmJspRUbqF+nXjLS1JAod8cf4ozIjCoFACOPcbs1HgdlGlVNWN84p9A7b0qE1Yjt3ifSjQ1gy+I3ilpS1ZGG5h6YVezQYWK6urE7cOHPKVSnlG+9Jc9NHeL9Xmj8Lji3J6NWGMYhH6SlH/8OgjVkpOh73YhSr9JyJFA5SXq41vj6XmaZkSkUITr17RaF4MDJQ0xigKfAm3qBL3UuKfuLRM/EhPKwS30twiSjtWe5UeBNt8IxSkW8MqmSFHHtmDoFyVEqNloFbVqdK5Zpt4PEhrv7CvuYIyGqWLLmuCk0oYwi3LVtRqtVfCkUurc2lLaIug1TZJyYsI0gcnXwsf6VGVKBwXab2jZ+7tomCTplCSfKTrxngnNnKsJcwo2+L7CEC45bjLSHoNJa2GsI5mrahVhPgJlyLCrqgRL4OPdc6KP7qqWAvNhNDGTLHC8dH2b8bzDYeGHdcwVTPeTrmsu2zQ34Ccj31Qzo7DNEYsYSi3tKFWOda2Nu7fjWwNWlpaoV0yBd8wtKMugfPNAUV7TbR9pr7mf21B/kGNOqDvRNlmtAVpTmf3DRSlURazJGjvYaGPJcR9e8oK2vpxK5gNncscOuq4O+MOQVsjx3M716DWk0xdqXWtiT2r6xfZxxqnjgl1HLwh+KqXqU7nuOX4QUTSj1omekq9JM8DjnHsAqjg31EnityVsLvn+KhmFXNLpy5rko5PvQ19oxc4JZb1i5wdRpR1DcMp0d/+zAynUSYI+E4juBbnlvmbJchFLSXRdZNjvoSGTuISdg+pRLNmHUElojcH2dRb0DdaIaHEvD50hndh34JLgqaP7BmN6Fm7RHAtzi1v3xFwS0k4Qrg0j2Ztm9C4ryvUJNrUfTxepDNwcWJGwCSPDA3XvBKVsKxld4ZL0BiI9JFOT+FKuUUeSIgdP4bbs6M36xLcBx1zKvFBRyu/G5qsPNncjgkLEposQfpIw/1n+QfVwcOc2TEHJvGDTN+NL6ZRePwgCdcCkVDi7brEpbie95y1xIprPacV/7SZL5tblhuJ79grT/bI1g3QtoEvv4LgY8dBQoJkwYlZb7MSmCQ0cqQRzrXCasWJ+3ZdIjEAFr5Mkbef24u7eAGRzE1o1gTYEVlCTPyRxqcl4x+kIPicysxd3BbvweGyDB4ens8SKQPZToPLVgt2CS5BlEikvd4ovxjeSubr4ieq2b4rPy1EWVHD1FsGOWUO5ynhNsgriTdrcaKKOUJ9Tuvxz5+o4lwrovcuRtw2tCrqrm9FC1xUkWvwxrHchyTyTOjZrB40YyU+8mX9zOphaOKJSgzeRzahaWyg0Crj9IAScjA08+lEo2oqWipgOHFbcAgxLk0CxhwR2rkOSwhRK6mWrGaWjkV/5GzuxasAGbEcZ12dex8yS7FUWSWVxWhFEfI0n7LqLfaBEnKQ6qLnaYRJWOBJiKuyv9cD4dJd0pAYEVoth5Ksclx8/DJWuHdxUqzZ3Cuyl5bmqc59aXxOj4NpLdU1dssW7/a40fDyfrzqsQ2HKtwijaoSdtQYFbXa0mZc5dIj8atCq8mAdkt6Y54V2CGlG3bTIkOx3J3DmCQBlfymfA3LUDA/KF0CU/V0eVGEdqfbYz6scqSYz3qhSs6AVW4hFtV6iYRRdmeMecXfLNu6YUdKqXHbzFDisrm0DUZzb4ryZQ0Yzc2Ol++gl4iSp2XhN/Pe3PIuXES+aNouPdnj22leYYhr3sdnFq7Q9xRsnb8JXymCwTjMTipjnuMZts79pjqwOTjQnKLf5dgwv5yFubQNtobVUmiWaB4WX8M4TBecjLe7HUU+mXEIjgNLN+Y5BOKZ0TKc9aloHPMCMe95uAoumzZbA11wst3tpuV6Ej7AbBaKJxof0VcCobmlrWoElvxa6PzSJi5+s1pG0TyctcrNzKO7RH9td8UyL2ydzCWahyu91T/duAiRqGBUKRzhJ9WuPI5+MvNpzUCKDzQVojoSFdW9+KW7hUvEF1MPqRjmck+UhnJ7vwElYESsulhzLi0YFohKPV7ZaIlJFFPXaRXijXQqSvWU1R5PplqdS/tghMh4nZ19OXPPDOyV9GRozOk3IiIKYGeXljE5T5znpubzIX5Vdx1/1U82tLCwsLCwsLCwsLCwsLCwsLCwsLCwsLCwsLCwsLCwsLCwsLCwsLCwsLCwsLCwsLCwsLCwsLCwsLCwsLCwsLCwsLCwsLCwsLCwsLBoAV8nR7z/UPvHP//9VvnJ4+TPb/Ujb4wWT389Th7CP/I/+iLGvc5vgRQvGR0ePivQYfYb8sMfBeLcMi7jmklJgr5MXufkr8n7PLk+flKQxX7T4vkx/qvXPOt8eVgS8tdj4We3LkHPj8hfPT8+hOTvx+IPv/7vBuiCY8PY06fJ+z8Y25z/w6fvglhFCXp+/CFY7aXw4/5KkDItvgqm+VKkxpeYZZ5/9fXj82CMfZk8fGaspozr18nDyPn5OPk997OPn2JhefpeIMQNS1D8zYnO/TJ5//Px/Qfn5z+pev0otuOjifb0K9x+j3nm+ddRv3xN/uNJsE3yx6kiLxt7t0WLp5gO8f+eaJFIkPMS/7+//5k8xMrFefln8hp9yrNYP/Al2VmeHx/++/Tw2Xn+93HyOhJ0OH2aqDb+X0yy352Pfx3X/OXx20lmXv6ZTH78kVi4/aNBA66J7ZeXeGt++Cx+LvAj+8OEc8QmnxDp46fUfNtsnI+fHoQ9983ZPH16/8eH26bFhn1IqZHR4ihBT99/CC3yg/z9KIjz8vhK/v5n0mMJmojvT8w18ZPE0s2b7T8fJ98EMdI9J6WDs2HiITEdPmzY1//9VrOv9xk5rnldkqfvkx8fhDHzISbiS86gTSXo41+pD53fqX/++TkVqf5acZfQQvDS/3470eIkQb87P2M1LJRxomPEz/orQQ8hH3+avP/to/jgF2FnxDKTs+2FXvl7VbRL4l/+++NImKFYcfHGG5PuZfK/38TuLH75rSRBGUq2brp134gE1dDCeTmxUVmCvsTsIujwHMvSxz5bcZNv8f9+FpvNw+ev8fbzNdtUEwnKB5JyEpTgZTIwCYrtF7Fl/xeHDvIG7FkJikN1k9uSoDO0eHnMmbclCUrZ5atQ2Z97L0Gfc8G5z5+qwcqfRUrkJUg4TWLU4CToT4HX/75PHuL/+iGToLwf9PT99T8mzN0bkyAJLZ4fiyH8TIKev/+4SQn6M8bo05EOuSVO9qVsYM4P+vowZ2xwe1BiuSQ/Li18WYLysbiEcDcmQVJaVAXoyDni/92WFfc5DRZUpeXju0V0dAgz5GJxydcPToKevk9ePzvPv5IDjw+bLyeSlSMJ4jzISc+DYgaKzwJuSIJktHj+dWSkciThOQ6B31Qk4XNMlYeR8/Qpjj3++OD8nZwbJz9OzoOySELuPCiRoC9DkyBh4SeB2zSCW4nFnSK4IieBJzkJPx9f53//Ez/h68P8P+eWaZH+Q3h9+Wj2KSfhpqLZn0/JB+8/pNHslCdOOQmnaLY4QlomOQkfPz2E5N/YD/rysOwtT1zMNXGu2+s8VrD/TCa5rKdUgk6niOJvj8lgP39NHr7Fivj5Vw855hJa5CQod6Kaz4u7oRPVSWKo//s4eViKLxLBgdfj+ouD1jg/8HSimk8afPp3MvkR78hP/6rkXVpYoOijFWdhYQReRjnn2sLC4kJ8ifOUbyFh28LiKnj5p3yRyMLCwsLCwsLCwsLCwsLCwsLCwsLCwsLCwsLCwsLCwsLCwsLCwsLCwsLCwsLCwsLCwsLCwsLCwsLCwsLCwsLCwsLCwqIXYIy4156DRc/ACPcAqM8HzzquTwHE//ncGThcvvaAej6p6bZq4TgEgC52hC+mQIctQxymOzIebwlfAB005zAPglk4X65mQAevTOpptRun2O5gwORyKSVHSoy3dMicwyGIRinCgSuTOriQY5vxmNPBksuFaY4Qg9YmHoRH+RmNRtFsyMqkFrTANuPxduo5wwQsipQY86HatD7McwI0GkXhUCmhAI+W2Ga8HajqrVJiPKXOEOGWBCjeha49KVPhQt6EG7LqxSixpb4zQNBZSYBGo2igarUetGy5DNaOwygx5uAMD35QEaDRaDlItVoPBluEb8gQt2zgCCW2MEC+oStEgqIhUkIBBBC2GSTfEFSXjIcYhIIlIkGj2fra8zISfikQl2KQEoRSYoAGrQvZSVAeq+FRQgU+ZvyPx9PhaV4JJXbDM2gJYAI0CodHCRV4WTZCAYvhhaA4vhsPkRIBKkHLIQZVGhch+EIAAB+kSURBVFtxlDhDg0txSgxPglzcigutFYeB43wzQD+IIcdBghLD0yWscp6a+EHD0yUqcNEIFIfhpcbhErQdICUcms+JyxAMT5eogKGnILshmrweZtAuBkmJGSJA0RB1iQo4rW5CZIBGnFAm1ajKUCmxrErQzLpBEmohySwDPAMRIIVbHjHoMCmxPt0NyuIIdguS4b5ix+0GSixyKO/H08MwbX9WSS2d28RSGe72sC9aLzuA6RBtlzXAgeZJsZ3uAfyNMziwBeRuqCZnQTDAoKQS3oGoq5HTvYRSCjA8jXPvAYC/zvlCO/C4oM6dMzCQPQDsg1NALprBFAAWwzRNzsIVhFk7zKMLLuprbHc78JyNPzxyEcE0d3GlBEGL3W4aa5GUQINTqt494zBbinOhaBmK8jNHAlnkkalYFte6Ev/yYvuNHAD2ZFhmS6ozGPEFLSjnLMdPzmDgTo8WCBOECGJaZJv0u2tPzzy2OZn5jOTqDA6LXHfn7Nb4l2RQStU9/ou5eaZYw0A9ZAnEPnMm1MSHQ66abSa3QQ3DGdw00jRDQ+zrnLVO3IGQS8HVIQMJKJA6432IHvIbxGMzCBdAKdw2CKN2oyIeNZbLYKBoot0+uUq+oBy37wPcqdkciTIZ4CFZM42qzGA9PvlQVBG37gOslVXEgDxkCeLIvurOcstnipeZqTftA9xfYqaeAt6DxKWMcLtnihczwu2ekpHLjkuH4SG3Z4zcKLkaGCM3GlBgl4frb99DbtUhvhN5UjdGroYO8S36AHdNlvfWPeSWdejtkauxDr29U7J3DU2MW/aQNXzzbZHrLUGB+qPoXsFt7uberoesJTnl/obI9cbA9C35APxNmvFGPWRdzkzsQt0Cud58OHozRi1764fcooesUV3cxpliK/G02zBqyds308Fk3bZjst7CmWJLF8VuwAfYtGOD3YYy6ewr+35RsUWV2XcfoLWg4o0ekuky2/tHLqbLbO+3D8BbPNi6vaxbxrnnZ3cLWw4dFcjFXH56kXFgJL687vlEy4XtvGZy+doD6vvmShThPucu06IIix4yIX72oj6C+eJm+2IKEF9vT44vmI7tnwk9Fqxm6ZuMgwtAdzvCF9N4ghpcl6N1zDwIZuF8uZoZSgpOAWarWZCywkW5xZd5yERwx+lNPQSBtOTZdsuBujqO0FNyuTQI4xr/0Twu5mIYWK5w1XYH3lqHx5ucknHI6hNGoYGcwzxYJtXfonkA5F5HQCj1kD1YJa+aizc5/QPz8rWftzt60GKhCsOQnthGME5gmO5lUCjhu6WaiieuAfaQb3UQBaZpEw6zXPXEMNBzKBEbhhDk+qaEgXnKpBZeqfLzTpPbL8yWYo+ZEHyjGzFsF5rSCO4OpRrTkWHdEklBwEejeXDQ4/avAYo9wOcB7ZsI8UoLHL7XoxDdSpOmZWCS6uWVtkhbTc3oSIUSUWCSMmElARqNor0ee4HtVxVKrPvfvmOqRyGWtI3AzCDV6yJdkfQ0MqkyqKjSbpAH4FWbompqw7Du7E2dtpDaarGukGUxSvXizbR0iLiPde01yI7jWEfHmQ7rqmqWxJTolQihbQy1dHPHOjSNlubwDdqYb6tjE6IYJSJz+nZ5YVfzQxvf9at1JAGEbcZEQxtDgjZ7Nodv8OawWiQIb3ttjhkHnbVElbzJsBjtWXC0sb0OviEwMlqCcF0ynvKOKDGarc1uyz1r3+C+hQbgfrWdo4CGU3K/GkeI14WbTYlF+y0dOeYGjUahKc0jCS7hq/bn5+JvMsi0r0eh/1pO8/rdGNcG6Rs0kKBHgmZm8w3HJXzZvmlP8DfN+9QL3cMliJKOnMaRMcE4TrvSJW5gti4h+M6gIVjo4h6hQWHJpn7QWINXK9FsxvjPLnSlSyR8Y4z/7OLz684PMsaeVYGLal6u4VALt3kjY47PGBrXH2uYn4RvjNElDhptH+m4rI+/yRjfuDnfcA2GKM43GozrpqCLjijheFhQZWmMLnHoqrPzIDS81K/CGqgD3VlOgg7ToClIKcNWYKtlMUkpwzZGYI7pwjEzTotzgr/JHF1iVl4clg1mFLG8qkU71cPWSFqPSRmCDs1fbUgw13NwR0tJ6vFm16stSMSgymfxXNMpZ1X1alqWhmCw6IgSrGInGUYJWsnN1lRkqPomkzZjNRBaEiECUz1vui8rnMgsYt1BaT9egKZ7HpX7N6FhHVJoKYkxmumqtjQtp0vOzKKEAqYA+8IdVQDQQy0OsM8zTgiecZSgvHhFVVeJIZfmNuRoJm6TO+aAAxzyhtxSlEfR8iYGcFjl3jQPDkZRQgEEYMGz282iTgLRRS0Kh3V2TTWKZobZuxzAZ2tYcDIeb8luB55DYa/rbWwNq6WgRbQUFSPWJlV2ZQc43NEgrZMwWs5gPYWDlorFa4D16U3RKq5NYQ4lFLDZAzBxARvoQtTqEcKjiVp3QqMzCkGwCsOZcXVZBNswxyF+fHcfqMdjodJXKpKIFwWiSBI/roMh8GMm9kWtnnAlZugKSmgxrqjYcXwQZYvEm8AVlBDr0Bu8SyWeucT3OI/Nfk3UWgCIumuMrD3qJW8yCQnbCDD3WM7uHmCh853MJcdXEXOKUrqQesIuWXs+jwvnMdBicpO0lpjLPVE4L5Ycbg4lLiFWHnqopZsbdVDC8brbGaaJgjEAHrbzLrRQAqUvNYYSTYmlh1prnRaRLkqQ7ozyO1M0DEH9YC2UwLWqNkdcUxjB6Yhae6NjLJJV26A7U5cy3Dk2Eo/soIES7/BP9oQ/1AtsZPulBmp1qM0bsg1KCb87i8LV42o09YzLeNc+W28kfHZnBiUUQ4lOR9Tq0KNokW3EYnZ2+do3oa2DKzuZctt38KVadWHGdlyLe+kxXvvUck2x8i9jmzTceu316BCelHnbPxybAuDHJvcdGs9vwUKu81qnloZdrUWc0XldBkCkO+HVPWOB1g/HXHnE4J0J23EtzlmbbVOrS4+8VbYR6rCzwNDmAPuNmZ6xo+E4wpdrVXZ1SqiAntkW2qaWriPtdnD2AEJqamgAv3af1fW5CbTsyp49drw6JRRw/ui3ZWrpSqvSzzbdCv+VDxPvAah8nUi7lDhPWGp05EmAwdl9sl1qxSlxpuI82+jKZ8Fx5cPExdlV37RLifO+tvnHqjWh03aptTA5jnCebXTls0hw1cPEu5pFb/VwrE6rTk3mGZVDqzap1akab50Sd11GyK56mEhrmLbVw7E00fjcyww+/1CQ8DapZXQcoV7X7buMI17xMJHX2totHo7Vx6rMPlYVt8mczqil8aLam6GQS9/pWVbDw8TnX5P3vzkfP00ePjsf/xL/27Zn3PLhWP2j8Gx5s26TNcn6a4AuM2Oa3DKuixJqyGc5g2aHiV8nk8k358tkMvndeZlMJu8/6Egqum/PvVdINDYiy6n2NlkX1PIMvu+hQgln2uUeqrAVaJGgOxUPrLVTCZVEY2ZCllMB7LL9MUetJrEo1tVFz4vBXH6cmxolsgyN3Eh9OB0mMq78uqdPsRX31+T1MiuOXRb7ynm0b+IJtfPGfMmEax8OMb4WpRBocpFW7SZKQi3GuRjppVdw1UDEmHgUa9McbANuvjqBYBuFuSU6IK5rQI8j9WbWMMcRJAxmOl9H4lWifszWCp7xKapK1rmRimApT1CfnE2JyyEtmZAwr3jd9cSIiEoO4Xy5mgHlqodVMbU40OmOE76YipFqYB7MwvkoiparGeUbk67WiQo5YVIhZxVQV/XYTpzSeLDbiYpGW74Ava1yRckE5gXxPMVE9byOeRCswnnMFFzJMz4ejolqMYKblqtAPc7P4zGiMtEKPHYmJa44CN4lzLuMxOs06y4pmHeq7xeF4Mluk5WxAJieahBud4p+kZtVtEpKCV4/4RifWhQGB8XDUiJU4Kmq9naqdylFzaRct6VIB+dwOBWEiwI6VVwlAuDl5rYMqHspC4rXqYbZpoIFTyNDzbpLhW1Go2h/UGTpO4B9vpzplqqQixfLcUb0YEyCkwvFYrsh7NUosaGlgsCq2qQZ7vYlGoatKyGv8IYoVI4cHw6H4kgV6XahUK02WqmWaCUA+wLzzjT0c7q4eVy0Uo0sQamvw1ahJL1bbnISmVNTvVKtOlIMl1bL8+uqqI3TcBS2rHt5+Q1LVRmdlkvFhwpqtdK/cEkVXeNpmXnbpoQC/Ernq0ix82K1l4FCMxBaafYYmZIiiLRfUVwPpEXMgnbZv6dlNVQV0dGKNh1ZPzWkx4ni69aVkdGs66wn5JMVGwW4SHMuXqdwqvIqFI4RKYIYJdTWgyCU2FJtegFrtNRuSxCkp22kplZLdnAyNb8B4ZVeh47s+pi1uieoagCksVB9ayG0UZ2GPuqddmZDG54Tbe5duZtB6w2wONaQc65CCaTxUb2G9DEWnKuQD+1e3XWfYpSlVabPYIvxDW3QBnpuhCeEMuZIhW/g1NAhb9Fq64wSNeU4Rfirpt1Lq91+YhqSy5ulKqkudMm0tKO8dDlUJkHQ3tY1fIM37O74m3EwSYfq+pQ9guqS8VRTRBvXQm3SUNL/12uqhWpoKCE8b9pUvFszDl8Olen7WIPV8fj89HHtZoQESSih0Hkd1yW6OkRKaNhmg2ucMUOVQCs+0mvCgiqEx0d2mqcsW4766ftYa+s6zYtrNyPam6PWuDDim+qSnSbbFLeUWuzZLGHMOTQeeZYSHCe8gsBKmFdB6bUI1BcbjVb1y+Fh7vN4vDg70sNXPzBAgnADU2UhOW1AidaXTPEIQgEuLgfLek9LQsMlNCE8NFV63QamJNNXWA6J5j1/JixZfRPueUgsEAVd4uISpCucvQ4005Ch0aXReTk4S0OvgcAqEF7CvAojW4TbeDkkmve8osJXv804Utt8E9RTgiHHQbUeYdtLFrVIQzwesPKb0vD8SBnhG0cSFJasReDTV2FpF41A8fMjcX2joN06AG5hqsiBJJrNulyyNmmIUyLgjUfWRLObEl4iex3rY+QQWckGdRjKN7vzI1mpy3vbTvBbgJ4GhkoHe9h2rJAj2ObRb5s0RK2jSEWXoFZ6nT7GcixUvC7H8VYG6GNSSMw+EkvFs+e0ugmRurg09rrQhGC24zCEM9Xym6qJpQqUaA4XsbKUJF0VDFOrMxX/HNWQdSOxQWosiGf1dB2WQjSAWnIeQ/Ipad1IVn3d3IQ4giwrUi2sQ3KXg46U0Livrsv5z4qSrgxEz4Vqb0BHsssHKRIesRs6zyxFNICqPquq3gVc/rruk2ml8MucuVI1CLzyfqzPhhO3ystXCKJZy3WfKpypqtmrGlJFuCuDQsWL/1W74RoGDalc11Kcg0vBK/jOVOUaFsldfowJfJVrhSjE1ek8JRQvWMYrWcguJUp3DRvjHmCfn2gIbVc78g6Fi2vqdw0dCoeCdCtdlqNQvJYXKNexQl53BZeA0RzjzEF58TnAPme+EHFhm134utCUy0EJ+Om+rrjvrj6QcZget6HtTnNlXlHwNncxfwZKNbkuwQHyixTNQLW0majFVR5ZP7UD0Jwan4t6LQvlcn555g3216k9KOprrJbRKJqHsws42oMDW9PFjmzHW76jwIlafQi2jmtYRMtwpi6uHUHU15itluFqdilTMgp0uuC7BWj/KEFnlyYTFdV63Ja7JohSOZxDsFqKejBhCNRVMi/Snh7HkXMxUqWs4AbAd6n4nPk8XAnCe4pNme4B1sfXCVp43ZZgzsH141JDQH31xd8kNZ6OI7krCK94KzoeRSk3IJunBOaKuVGPuw1H+pePvBRrsdenr1vHr1u02waMC1WYlp8StIi1pdJIP56anxu5rxduJjaOhCcE/Zh6c507UY0se50gRTyB64Cdyt2pIetZwNx0ZEwJ5fcZtvv0CH5FXki7NfcygWRHnninyJjZFpCN9OqLmZ007/EdTNGMy6ye7HUttwHTindV99W06qM3iipTttzNtbpvEDURdas6tCru+E5ShOKeVxVsVdkzAdOqclG1li3eBITMyGI0h/AunKpnpGr+VX5UFydE/GfFVtcLqJw3qNqb1wdD1J5ncBuTGwKiZhGDoDkQ9t2o9adA2Fdh90KETHFTRUxERIgNBWZwvuuwr/VwwRBubrWRHhaX2KtE+5LgUhEK4SXMyVLrh0Grs0IMSUOBBT0UdmyLNwO1qA4txrOxiLCnwtGYHGPyXoJftcVEvFGl1Aji9PTGlcDIjLiEFq0DpXKL8ex7jOffqQTjUFvyUOvaY9KJTkJJOq8Yz36rtxn/0LwTnpsDaum3GMVFPReisieg8Yxp7Z6A/oVKl1F0N77rSTwbDZYo+psWbwK6HWCBnYZAlbirwJf4HBa1wTHEm1HrTovuxpgzZiLwoKGSv2nxNiAh3FZbUaKOBFNQjvg+WG//oSyvEhHA/e5+xLMlmVitHktY4MCJrOZ6K0AiK/t65Yh7ILX2n8RyUchww4VT8SzpypBET3H1aNEqUKNH9cyzHpIDHK9+j8N5vtYvkXjPfn1gF2c3pSDE1SE5wVvbcLZ2iExm7OdtZSVLYlnvao0xNLikEF6SuFgKR1wSk0clCHF1SObecoajBQJZ/q5oYdoGwST8x2utRIn1JJP42jOQQ61KkFiWrSZoaIIs8qN8v8GiMWQ0bime3XxpPYkJj1ud9Y5S7cGOTDZbTdDQBNlqXXS/waIp7VGV3VI8+8zSvjs7UHrNr86DkmWykDpBkHFb2xcOdUCqHnoSi+8zpKlT7cSzpf7OvoYtpZq/7n6DLJuyVhCk26LqFdcrQuq19iYpqb+Qpu+2E8+WHkh4Nf651Puoy5aUBnDrPDup121+PPtOtqOzKRx6klveVzAqITHxYe+57hujCfJrBR7A3bmHU9kW+A5A3NyWQrp38hqfQCqartGmUHZ93i/v2UT8Yh9fWL/S3G4egvbBDCGxK36xCmdBDbfWPN5P6xv4pWe4HgUQD6ce+nSSMEV1IPMpQCAf6KYDqV+2x7IqDeVHpg/m66SsQmVgzIYBxqBmwI3r7Iyi+XJVLKfGPNjtRO2rLeF6y6UNFsyDMC7GFc3DYpm9dVaEb74McF5VeXxuaXn+Nz7MlvHz52GAuB7Mg5kYGC1Xs+JAfho4w0SbQxDGdXZWs+J2wzxY4Y9M4EIwC5diqrOi95UOjL/CyKjWOldSOQpz3+ZCrnTcdmd+OLF/4JArVZonPvPy9YojlFdVHn8qGx+FOe5zaf7xq6C8KZBTkT1RAPAk2kLic1UbK6LNaG7gPK+Q858albRFUi8txAe6+blEJUVgArxiheMwcy7dUgVgrrNu9DDBS/WST8UqaaEK7Gi0bNITsMDtMfelv2A5yUo5lp2ZVzQ7MjSDWYFbolkxMOAWHxyF2fZWnUvBpmF5MYkHcslcTo80BJ6snHK1hPbWtLn3HdWODcs09FZta9agkwMvl92Pjn0MabmjSVQQ0Eq9/miWyl61yUChNWK1Q0SYiqb8kemDyzMKUwmr0uj4SMfY5gbLZO5IB52dWXPvPZDWPCsqawFysS+EdCCZJzoQaTtYENCKgI2iZHNE5lWQvaqAHZsQVJuvFArfE6THBpXQyKC+BrLWT/HcCdIHcaurG/wwwZGOh/E2gbU9Km0TTrPWWaHQgXhHoJN29JGuhLFaRQfmZA+Rg1RQsI5cqaaWtxvyZTQyySPnWAvHSJgSdFERIGHH2YBce6BLSYN6vLHmhf2sCdaRNBJi6Nf0s0MbMQrFj7cJPkk22vtRdE7H9tR8WyC0g3csYWj/12SjNgM+1nNvNOPSRqJWgtoD2nRXqC+cU5WaKOaWdiYTQ+98Z1SCN8aljsOlj6z5IPyRQrbO6BIxEG9MbESb63NTH4WepCnxeGrQ/tl34GwlVPoa5dQL+QZXjiGt7c7NpW/HRU/I1pkPEoKAz0Vst+c6jc/4mUeaAnzqc+oQwARovLCOUGvAOVX0H8Y59cKW8LhynANjuORmgoCzu+BaXPQyyca3TiEIaKPlkyCgBme8ueFziY0kMyCZegSuX22omkTjrj3l24GEO0JPwvwX8o10aQnO6JkgSN/O8EeOjoIg+aCVJ1HUmQcl2Y1DKhG9KzRWlQE3MwUxOdYN3u5BHexBK1/GNxeFoCS22giIZNGzPUi2A3LJHpRtJZ78g85vqpLNawlnHmkIJGReguNKrDhjpt5/uDjfBFwSBLjQ+se5dimsuPlZv17CtUAku1MmehJBCLj0kemuh8cehZzIHmnO0T6ub1a+w5DjINEQ3pyp9x4STgYii4ZdVjMJ59olyMy02TFrbi2NBHqy4MRZQQAiCY1kHyShRODLtIxBsTiczOJUr9DIOoNBU+89cL4RnIrbWafgrxJw9b3yHYkgZDYiLgiC3fG9MXPP8A8S/hUuCLloNqrIgUhp5BgDkksNzn0zcRwfc4QWBk29/8AO6hMnGeOoS0/i8VNM4Pg5fy61AM08ECFCNOcgfxSLiqY4/mRoKEE8Mh2InqiKGaEuoTmBBJGsPpNMkCFJCcSgOPwNAGPVJLXUzbWDb8w2mIDOKJb4XZJPjqjVRMDWyG8C76zQzuMPwgauTuoYFdo4qwd75DH91gwgc0+1kVv1hOz1hnZBihdLcoxc3SYuz81GsuuWCe+xqoDmM6VZVfbSlFRkcyzYloigJLnbiKZOREs+MJ1R9TdGpcVhM8y+zKfFtITt1B4GtQyvRPxT2nF5mzjdl1EHKdtO0fEhlXsPq4J8VtRqNi+3/JviflAV2qNkVh+Z27swoT2yYeWRhqVmi1vvRYUUZuWImF+IJhB7z7t94nsF4i8hS1dmHiR3qVOuaaR3S5fTwlOlKR/CnITOZyW7iGQ3zFNuzhK3eVG0y/Ny83du43kfH8yLj1yWqgSx4sCcxijceo3nYpINJ8DW+eu3hRvs69M17+2u1d7sFinx+eluZklMeDCbJ+syX4LXjGtIjvuKj3dpkD49lqyyhchoTrRPN2eT++GZaOckHlXIhQfnH4loBLbODSzcYC38pjAXY8A8GqyW8ygMZ6V6eMwDOl3w3RTMk/wbAaMQzFbLcFYhsUsBYLYK4A0Fb9k6yJaWFq9V++LhYSieT3C9KgaKiZXmtaYwm4VLMRDjZh5/z1zUISkVDBGPXC2RuaTPjd84il9ZZEMO8VfIBhoARvy4zJDHy7Rk8a+oz82c+C0gJjGla4zELuc+J286gyNcVLWiHq9IoeuuPVGSSvL8hCkorQ5kYiBIJ3bkJr9SHCV9ZJXN0l/H40TZL37ZQENgz0pvFo2XljVVnIw1nAtzra62sLCwsLCwsLCwsLCwsLCwsLCwsLCwsLCwsLCwsLCwsLCwsLCwsLCwsLCwsLCwsLCwsLCwsLCwsLCwsLCwsLCwsLCwsLCwsLhxfJ0c8f6D0l/+Xvjhz38fJ39+qxlpMWS+cRzn+bHENs7LP5PJa+TcAt4mQV8mr3Py1+T9H7mfffykQNNe4OOnjDglBrC4RIIEHYsE/Gvyysm/kx/5nz0/fuslWTeMPX2avP+Dsc35P/z4afKNseKfPT/+EOR7meS/3UrQEKDMN7GeLUnQSyIsXx4+34AEJbIR65Evk/c/H99/cH6KHfY38Yu//5k8xDLiOM7T90n6vc+/jl/+NfmPp1/vPzgf/3qcPHxLt6re0qKIDWPP3ye/l/SGRZFvvk5+//vx9xy3JKyQbU1P3x9iKy7jm4+f/vdbqoCPfyzYazIpSFQvJSjek18eJ+nHJDt1aqI9fZ/A4+T1s9hyUgn5+Cn93WbjfPz0IOy5b87m6dP7P27EjHPiz47VZ4VNnv99nLyO0r/6Mnn/9z+T9zFfDFCC4j0m45bU+M1MtK+TH58EETO+efqe7kgFvvn5+K2vtbhzEvS6JE/fJz8+iA36w4vQDT8f089+jgVLSNbHv8KjUJ1s4J9/fk5F6nasuKIEFdkkIUe2GU8eHgfnLeUk6HUdnbjliyDLy+ORNi+Pr7/FEpTxzfPjiVAnvrkJK05sri8xW7xM/vfb13j7+ZryxUfi/+Y8/8o7jnkJSvD1f7/drgS95thE0Oy3j19jisUUfB1l/xqeBCV8knLLx0RcPh03nF8Pn5MfZchL0IlvbkaCYltOqNf/jpGovEAkf4NJ0NNfQgvfsAS9z7PJ86PwCn+mivbpu2CXAm2GJUEfTnHL97FHc4pffpn8cM5JUMY3tyRBfwq8/vdp8hD/1zGWIFDgkrwf9PT99T/GbnkPep9nk5djLDeWoOfY1I3/ZMASlHLL0/fjf+WM/0KUIO8Hnfjmxqw4gUThHvHlTxGfK1oquVhcEpm8fQl6SJjjJdUzwopPaVZStAOToBO3FOmASVA+Fnfim5uRoKfvIuD2/OuziJ38+OD8HQe2hUM4+fbhpwhLZh5hEo5MzoNiSsSkuWEJcjI2yQIsMWLKJabcYCXoxC1fJpNvHzZfcuo3dY0yvsmdB5345mYkSIhKGoxMAk+nLSn9VxaVjHMSeJKT8PPxdf73P/ETvj7M/3NuU4JejmwidqOR8/QpIUQsWIlrNFgJOvFHausWNp1CNFv87StJchJOfPP0/T3J57b0V4LiXLfXufivv8XZakYI8a8ff+RPVMXfTiavczH656/Jw7dYozz/uiFz5qkgQSc2Sa2T+IdHBunrgWA7EnTilo9//TOZzHLWfkKgPN+c8uJOfPP30FTQMPBUlKATmzz9+zh5WMY/e/o1xFCchYWFhYWFhYWFhYWFhYWFhYWFhYWFhYWFhYWFhYWFhYWFhYWFhYWFhYWFhYWFhYWFhYWFhYWFhYWFhYWFhYWFhYWFhYWFhYWFhYWFhYWFhYVzDfwfi/sQ8kx5cHEAAAAASUVORK5CYII=)\n",
        "\n",
        "**Advantages:**\n",
        "\n",
        "* Random Forests can be used for both classification and regression tasks. [2]\n",
        "* Random Forests work well with both categorical and numerical data. No scaling or transformation of variables is usually necessary. [2]\n",
        "* Random Forests implicitly perform feature selection and generate uncorrelated decision trees. It does this by choosing a random set of features to build each decision tree. This also makes it a great model when you have to work with a high number of features in the data. [2]\n",
        "* Random Forests are not influenced by outliers to a fair degree. It does this by binning the variables. [2]\n",
        "* Random Forests can handle linear and non-linear relationships well. [2]\n",
        "* Random Forests generally provide high accuracy and balance the bias-variance trade-off well. Since the model's principle is to average the results across the multiple decision trees it builds, it averages the variance as well. [2]\n",
        "\n",
        "**Disadvantages:**\n",
        "\n",
        "* Random Forests are not easily interpretable. They provide feature importance but it does not provide complete visibility into the coefficients as linear regression. [2]\n",
        "* Random Forests can be computationally intensive for large datasets. [2]\n",
        "* Random forest is like a black box algorithm, you have very little control over what the model does. [2]\n",
        "\n",
        "**Refernece:**\n",
        "\n",
        "1.   https://www.datacamp.com/tutorial/random-forests-classifier-python\n",
        "2.   https://medium.datadriveninvestor.com/random-forest-pros-and-cons-c1c42fb64f04\n",
        "\n",
        "\n",
        "\n"
      ]
    },
    {
      "cell_type": "code",
      "source": [
        "# Run this to clone the ai engine to colab\n",
        "!git clone https://github.com/sjc230/ai_engine.git"
      ],
      "metadata": {
        "colab": {
          "base_uri": "https://localhost:8080/"
        },
        "id": "N8ZCVQs33JjG",
        "outputId": "10f56610-29d7-4b00-c85b-3a97b1649b42"
      },
      "execution_count": 1,
      "outputs": [
        {
          "output_type": "stream",
          "name": "stdout",
          "text": [
            "Cloning into 'ai_engine'...\n",
            "remote: Enumerating objects: 219, done.\u001b[K\n",
            "remote: Counting objects: 100% (219/219), done.\u001b[K\n",
            "remote: Compressing objects: 100% (180/180), done.\u001b[K\n",
            "remote: Total 219 (delta 60), reused 194 (delta 35), pack-reused 0\u001b[K\n",
            "Receiving objects: 100% (219/219), 11.81 MiB | 14.03 MiB/s, done.\n",
            "Resolving deltas: 100% (60/60), done.\n"
          ]
        }
      ]
    },
    {
      "cell_type": "code",
      "source": [
        "# Run this only if you need to pull updated file from the github repository\n",
        "# to pull, the colab directory must be changed to the ai engine directeroy\n",
        "# after pulling, you must switch back to the original directory\n",
        "%cd ai_engine\n",
        "!git pull\n",
        "%cd .."
      ],
      "metadata": {
        "colab": {
          "base_uri": "https://localhost:8080/"
        },
        "id": "X3ApYn8-3Jtw",
        "outputId": "a164c21b-3e2f-4494-d29a-bd65bcc69cd1"
      },
      "execution_count": 2,
      "outputs": [
        {
          "output_type": "stream",
          "name": "stdout",
          "text": [
            "/content/ai_engine\n",
            "Already up to date.\n",
            "/content\n"
          ]
        }
      ]
    },
    {
      "cell_type": "code",
      "metadata": {
        "colab": {
          "base_uri": "https://localhost:8080/"
        },
        "id": "8n7opunQlgAf",
        "outputId": "b3594a4a-7ce0-489f-e40c-f17853db481d"
      },
      "source": [
        "!pip install sktime\n",
        "!pip install chart_studio\n",
        "!python -m pip install tslearn"
      ],
      "execution_count": 3,
      "outputs": [
        {
          "output_type": "stream",
          "name": "stdout",
          "text": [
            "Collecting sktime\n",
            "  Downloading sktime-0.25.0-py3-none-any.whl (21.7 MB)\n",
            "\u001b[2K     \u001b[90m━━━━━━━━━━━━━━━━━━━━━━━━━━━━━━━━━━━━━━━━\u001b[0m \u001b[32m21.7/21.7 MB\u001b[0m \u001b[31m12.0 MB/s\u001b[0m eta \u001b[36m0:00:00\u001b[0m\n",
            "\u001b[?25hRequirement already satisfied: numpy<1.27,>=1.21 in /usr/local/lib/python3.10/dist-packages (from sktime) (1.23.5)\n",
            "Requirement already satisfied: packaging in /usr/local/lib/python3.10/dist-packages (from sktime) (23.2)\n",
            "Requirement already satisfied: pandas<2.2.0,>=1.1 in /usr/local/lib/python3.10/dist-packages (from sktime) (1.5.3)\n",
            "Collecting scikit-base<0.7.0 (from sktime)\n",
            "  Downloading scikit_base-0.6.2-py3-none-any.whl (122 kB)\n",
            "\u001b[2K     \u001b[90m━━━━━━━━━━━━━━━━━━━━━━━━━━━━━━━━━━━━━━━━\u001b[0m \u001b[32m122.9/122.9 kB\u001b[0m \u001b[31m4.6 MB/s\u001b[0m eta \u001b[36m0:00:00\u001b[0m\n",
            "\u001b[?25hRequirement already satisfied: scikit-learn<1.4.0,>=0.24 in /usr/local/lib/python3.10/dist-packages (from sktime) (1.2.2)\n",
            "Requirement already satisfied: scipy<2.0.0,>=1.2 in /usr/local/lib/python3.10/dist-packages (from sktime) (1.11.4)\n",
            "Requirement already satisfied: python-dateutil>=2.8.1 in /usr/local/lib/python3.10/dist-packages (from pandas<2.2.0,>=1.1->sktime) (2.8.2)\n",
            "Requirement already satisfied: pytz>=2020.1 in /usr/local/lib/python3.10/dist-packages (from pandas<2.2.0,>=1.1->sktime) (2023.3.post1)\n",
            "Requirement already satisfied: joblib>=1.1.1 in /usr/local/lib/python3.10/dist-packages (from scikit-learn<1.4.0,>=0.24->sktime) (1.3.2)\n",
            "Requirement already satisfied: threadpoolctl>=2.0.0 in /usr/local/lib/python3.10/dist-packages (from scikit-learn<1.4.0,>=0.24->sktime) (3.2.0)\n",
            "Requirement already satisfied: six>=1.5 in /usr/local/lib/python3.10/dist-packages (from python-dateutil>=2.8.1->pandas<2.2.0,>=1.1->sktime) (1.16.0)\n",
            "Installing collected packages: scikit-base, sktime\n",
            "Successfully installed scikit-base-0.6.2 sktime-0.25.0\n",
            "Collecting chart_studio\n",
            "  Downloading chart_studio-1.1.0-py3-none-any.whl (64 kB)\n",
            "\u001b[2K     \u001b[90m━━━━━━━━━━━━━━━━━━━━━━━━━━━━━━━━━━━━━━━━\u001b[0m \u001b[32m64.4/64.4 kB\u001b[0m \u001b[31m1.1 MB/s\u001b[0m eta \u001b[36m0:00:00\u001b[0m\n",
            "\u001b[?25hRequirement already satisfied: plotly in /usr/local/lib/python3.10/dist-packages (from chart_studio) (5.15.0)\n",
            "Requirement already satisfied: requests in /usr/local/lib/python3.10/dist-packages (from chart_studio) (2.31.0)\n",
            "Collecting retrying>=1.3.3 (from chart_studio)\n",
            "  Downloading retrying-1.3.4-py3-none-any.whl (11 kB)\n",
            "Requirement already satisfied: six in /usr/local/lib/python3.10/dist-packages (from chart_studio) (1.16.0)\n",
            "Requirement already satisfied: tenacity>=6.2.0 in /usr/local/lib/python3.10/dist-packages (from plotly->chart_studio) (8.2.3)\n",
            "Requirement already satisfied: packaging in /usr/local/lib/python3.10/dist-packages (from plotly->chart_studio) (23.2)\n",
            "Requirement already satisfied: charset-normalizer<4,>=2 in /usr/local/lib/python3.10/dist-packages (from requests->chart_studio) (3.3.2)\n",
            "Requirement already satisfied: idna<4,>=2.5 in /usr/local/lib/python3.10/dist-packages (from requests->chart_studio) (3.6)\n",
            "Requirement already satisfied: urllib3<3,>=1.21.1 in /usr/local/lib/python3.10/dist-packages (from requests->chart_studio) (2.0.7)\n",
            "Requirement already satisfied: certifi>=2017.4.17 in /usr/local/lib/python3.10/dist-packages (from requests->chart_studio) (2023.11.17)\n",
            "Installing collected packages: retrying, chart_studio\n",
            "Successfully installed chart_studio-1.1.0 retrying-1.3.4\n",
            "Collecting tslearn\n",
            "  Downloading tslearn-0.6.3-py3-none-any.whl (374 kB)\n",
            "\u001b[2K     \u001b[90m━━━━━━━━━━━━━━━━━━━━━━━━━━━━━━━━━━━━━━━━\u001b[0m \u001b[32m374.4/374.4 kB\u001b[0m \u001b[31m2.5 MB/s\u001b[0m eta \u001b[36m0:00:00\u001b[0m\n",
            "\u001b[?25hRequirement already satisfied: numpy in /usr/local/lib/python3.10/dist-packages (from tslearn) (1.23.5)\n",
            "Requirement already satisfied: scipy in /usr/local/lib/python3.10/dist-packages (from tslearn) (1.11.4)\n",
            "Requirement already satisfied: scikit-learn in /usr/local/lib/python3.10/dist-packages (from tslearn) (1.2.2)\n",
            "Requirement already satisfied: numba in /usr/local/lib/python3.10/dist-packages (from tslearn) (0.58.1)\n",
            "Requirement already satisfied: joblib in /usr/local/lib/python3.10/dist-packages (from tslearn) (1.3.2)\n",
            "Requirement already satisfied: llvmlite<0.42,>=0.41.0dev0 in /usr/local/lib/python3.10/dist-packages (from numba->tslearn) (0.41.1)\n",
            "Requirement already satisfied: threadpoolctl>=2.0.0 in /usr/local/lib/python3.10/dist-packages (from scikit-learn->tslearn) (3.2.0)\n",
            "Installing collected packages: tslearn\n",
            "Successfully installed tslearn-0.6.3\n"
          ]
        }
      ]
    },
    {
      "cell_type": "code",
      "metadata": {
        "id": "FWDivwgppgRn"
      },
      "source": [
        "from math import radians\n",
        "import sys\n",
        "import os\n",
        "import numpy as np\n",
        "import matplotlib.pyplot as plt\n",
        "import pandas as pd\n",
        "from pandas import read_csv\n",
        "from pathlib import Path\n",
        "\n",
        "#import streamlit as st\n",
        "\n",
        "import re\n",
        "import pytz\n",
        "from datetime import datetime\n",
        "from datetime import date\n",
        "\n",
        "import enum\n",
        "from matplotlib.colors import ListedColormap\n",
        "from sklearn.model_selection import train_test_split\n",
        "from sklearn.preprocessing import StandardScaler\n",
        "from sklearn.pipeline import Pipeline\n",
        "from sklearn.model_selection import GridSearchCV\n",
        "from sklearn.metrics import ConfusionMatrixDisplay, classification_report, RocCurveDisplay, auc, roc_curve, roc_auc_score\n",
        "\n",
        "from sklearn.ensemble import RandomForestClassifier\n",
        "\n",
        "from plotly.subplots import make_subplots\n",
        "import plotly.graph_objects as go\n",
        "import plotly.express as px"
      ],
      "execution_count": 4,
      "outputs": []
    },
    {
      "cell_type": "code",
      "metadata": {
        "colab": {
          "base_uri": "https://localhost:8080/"
        },
        "id": "mXE7brGToUQG",
        "outputId": "faecfc6f-98cc-4fc0-ccdf-e3969380897a"
      },
      "source": [
        "# GET TIME SERIES DATASET\n",
        "# steps 1, 2 - prepare osuleaf dataset (train and new)\n",
        "from sktime.datasets import load_italy_power_demand\n",
        "\n",
        "X_train, y_train = load_italy_power_demand(split=\"train\", return_type=\"numpy2D\")\n",
        "X_test, y_test = load_italy_power_demand(split=\"test\", return_type=\"numpy2D\")\n",
        "\n",
        "print(\"shape of X_train \",X_train.shape)\n",
        "print(\"shape of y_train \",y_train.shape)\n",
        "print(\"shape of X_test \",X_test.shape)\n",
        "print(\"shape of y_test \",y_test.shape)\n",
        "\n",
        "y_train = y_train.astype(int)\n",
        "y_test = y_test.astype(int)\n",
        "\n",
        "n_classes = int(np.amax(y_train))\n",
        "print(\"number of classes is \",n_classes)"
      ],
      "execution_count": 5,
      "outputs": [
        {
          "output_type": "stream",
          "name": "stdout",
          "text": [
            "shape of X_train  (67, 24)\n",
            "shape of y_train  (67,)\n",
            "shape of X_test  (1029, 24)\n",
            "shape of y_test  (1029,)\n",
            "number of classes is  2\n"
          ]
        }
      ]
    },
    {
      "cell_type": "code",
      "source": [
        "# SETUP & RUN SK LEARN DECISION TREE GRIDSEARCH TRAINING & TESTING\n",
        "\n",
        "# import the classifier builder from the cloned python files\n",
        "import ai_engine.sk_classifier_builder as skc\n",
        "\n",
        "random_forest = skc.pipeBuild_RandomForestClassifier(criterion=['gini','entropy'],n_estimators=[10], max_depth=[3, 5, 10],max_features=[1])\n",
        "\n",
        "\n",
        "names=['Random Forest']\n",
        "pipes=[random_forest]\n",
        "\n",
        "\n",
        "samples = np.arange(len(X_train[0,:]))\n",
        "\n",
        "# iterate over classifiers\n",
        "for j in range(len(names)):\n",
        "\n",
        "    today = date.today()\n",
        "    now = today.strftime(\"%b-%d-%Y\")\n",
        "    save_file = str(names[j]) + '-' + str(now) + '-HeatMap.png'\n",
        "\n",
        "    grid_search = GridSearchCV(estimator=pipes[j][0], param_grid=pipes[j][1], scoring='neg_mean_squared_error',cv=5, verbose=1, n_jobs=-1)\n",
        "    grid_search.fit(X_train, y_train)\n",
        "    score = grid_search.score(X_test, y_test)\n",
        "    print(\"Best parameter (CV score=%0.3f):\" % grid_search.best_score_)\n",
        "    print(grid_search.best_params_)\n",
        "    y_pred = grid_search.predict(X_test)\n",
        "    print(classification_report(y_test, y_pred))\n",
        "    ConfusionMatrixDisplay.from_estimator(grid_search, X_test, y_test, xticks_rotation=\"vertical\")\n",
        "\n",
        "plt.tight_layout()\n",
        "plt.show()"
      ],
      "metadata": {
        "colab": {
          "base_uri": "https://localhost:8080/",
          "height": 708
        },
        "id": "Ee6rqeBj6V5a",
        "outputId": "9a5e6715-c417-4d61-8dd3-cda712d669f1"
      },
      "execution_count": 6,
      "outputs": [
        {
          "output_type": "stream",
          "name": "stdout",
          "text": [
            "Fitting 5 folds for each of 6 candidates, totalling 30 fits\n",
            "Best parameter (CV score=-0.044):\n",
            "{'random__criterion': 'gini', 'random__max_depth': 10, 'random__max_features': 1, 'random__n_estimators': 10}\n",
            "              precision    recall  f1-score   support\n",
            "\n",
            "           1       0.93      0.93      0.93       513\n",
            "           2       0.93      0.93      0.93       516\n",
            "\n",
            "    accuracy                           0.93      1029\n",
            "   macro avg       0.93      0.93      0.93      1029\n",
            "weighted avg       0.93      0.93      0.93      1029\n",
            "\n"
          ]
        },
        {
          "output_type": "display_data",
          "data": {
            "text/plain": [
              "<Figure size 640x480 with 2 Axes>"
            ],
            "image/png": "[encoded data removed]"
          },
          "metadata": {}
        }
      ]
    }
  ]
}