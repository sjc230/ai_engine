{
  "nbformat": 4,
  "nbformat_minor": 0,
  "metadata": {
    "colab": {
      "provenance": []
    },
    "kernelspec": {
      "name": "python3",
      "display_name": "Python 3"
    },
    "language_info": {
      "name": "python"
    }
  },
  "cells": [
    {
      "cell_type": "markdown",
      "metadata": {
        "id": "view-in-github"
      },
      "source": [
        "<a href=\"https://colab.research.google.com/github/iotanalytics/IoTTutorial/blob/main/code/clustering_and_classification/KNN.ipynb\" target=\"_parent\"><img src=\"https://colab.research.google.com/assets/colab-badge.svg\" alt=\"Open In Colab\"/></a>"
      ]
    },
    {
      "cell_type": "markdown",
      "metadata": {
        "id": "Yhd5NK-EXjTA"
      },
      "source": [
        "##This Tutorial Discusses Classification Algorithms Based on Neighbors, KNN, Nearest Centroid, and Radius Neighbors\n",
        "\n",
        "*Author: Soumya Pal*\n",
        "\n",
        "*Updated: Stephen Coshatt*\n",
        "\n",
        "<br/>\n",
        "\n",
        "**References:**\n",
        "\n",
        "\n",
        "1.   https://towardsdatascience.com/machine-learning-basics-with-the-k-nearest-neighbors-algorithm-6a6e71d01761\n",
        "2.   https://scikit-learn.org/stable/modules/generated/sklearn.neighbors.KNeighborsClassifier.html\n",
        "3.  https://www.geeksforgeeks.org/ml-nearest-centroid-classifier/\n",
        "4.  https://machinelearningmastery.com/radius-neighbors-classifier-algorithm-with-python/\n",
        "\n",
        "##K-Nearest Neighbors (kNN) [Supervised]\n",
        "\n",
        "\"The k-nearest neighbors (KNN) algorithm is a simple, easy-to-implement supervised machine learning algorithm that can be used to solve both classification and regression problems.\" [1]\n",
        "\n",
        "kNN algorithm, often abbreviated k-nn, is an approach to data classification that estimates how likely a data point is to be a member of one group or the other depending on what group the data points nearest to it are in.\n",
        "\n",
        "\"The KNN algorithm assumes that similar things exist in close proximity. In other words, similar things are near to each other.\" [1]\n",
        "\n",
        "### The KNN Algorithm  [1]\n",
        "1.  Load the data\n",
        "2.  Initialize K to your chosen number of neighbors\n",
        "3.  For each example in the data\n",
        "    <ol>\n",
        "      <li>Calculate the distance between the query example and the current example from the data.</li>\n",
        "      <li>Add the distance and the index of the example to an ordered collection</li>\n",
        "    </ol>\n",
        "4.  Sort the ordered collection of distances and indices from smallest to largest (in ascending order) by the distances\n",
        "5.  Pick the first K entries from the sorted collection\n",
        "6.  Get the labels of the selected K entries\n",
        "7.  If regression, return the mean of the K labels\n",
        "8.  If classification, return the mode of the K labels\n",
        "\n",
        "### Choosing the right value for K\n",
        "To select the K that’s right for your data, we run the KNN algorithm several times with different values of K and choose the K that reduces the number of errors we encounter while maintaining the algorithm’s ability to accurately make predictions when it’s given data it hasn’t seen before. [1]\n",
        "\n",
        "Here are some things to keep in mind:\n",
        "\n",
        "\n",
        "1.   As we decrease the value of K to 1, our predictions become less stable. Just think for a minute, imagine K=1 and we have a query point surrounded by several reds and one green (I’m thinking about the top left corner of the colored plot above), but the green is the single nearest neighbor. Reasonably, we would think the query point is most likely red, but because K=1, KNN incorrectly predicts that the query point is green. [1]\n",
        "2.   Inversely, as we increase the value of K, our predictions become more stable due to majority voting / averaging, and thus, more likely to make more accurate predictions (up to a certain point). Eventually, we begin to witness an increasing number of errors. It is at this point we know we have pushed the value of K too far. [1]\n",
        "3.   In cases where we are taking a majority vote (e.g. picking the mode in a classification problem) among labels, we usually make K an odd number to have a tiebreaker. [1]\n",
        "\n",
        "\n",
        "**Advantages**\n",
        "*   No Training Period: KNN is called Lazy Learner (Instance based learning). It does not learn anything in the training period or derive any discriminative function from the training data. In other words, there is no training period for it. It stores the training dataset and learns from it only at the time of making real time predictions. This makes the KNN algorithm much faster than other algorithms that require training e.g. SVM, Linear Regression etc.\n",
        "*   Since the KNN algorithm requires no training before making predictions, new data can be added seamlessly which will not impact the accuracy of the algorithm.\n",
        "*   KNN is very easy to implement. There are only two parameters required to implement KNN i.e. the value of K and the distance function (e.g. Euclidean or Manhattan etc.)\n",
        "*   Can be used both for Classification and Regression: One of the biggest advantages of K-NN is that K-NN can be used both for classification and regression problems.\n",
        "\n",
        "**Disadvantages**\n",
        "*   Does not work well with large dataset: In large datasets, the cost of calculating the distance between the new point and each existing point is huge which degrades the performance of the algorithm.\n",
        "*   Does not work well with high dimensions: The KNN algorithm doesn't work well with high dimensional data because with a large number of dimensions, it becomes difficult for the algorithm to calculate the distance in each dimension.\n",
        "*   Requires feature scaling: Feature scaling (standardization and normalization) has to be done before applying KNN algorithm to any dataset, otherwise KNN may generate wrong predictions.\n",
        "*   Sensitive to noisy data, missing values and outliers: KNN is sensitive to noise in the dataset. So data has to be manipulated to impute missing values and remove outliers.\n",
        "\n",
        "<br/>\n",
        "\n",
        "##Nearest Centroid Classifier\n",
        "\n",
        "The Nearest Centroid (NC) Classifier is one of the most underrated and underutilised classifiers in Machine Learning. However, it is quite powerful and is highly efficient for certain Machine Learning classification tasks. The Nearest Centroid classifier is somewhat similar to the K-Nearest Neighbours classifier. [3]\n",
        "\n",
        "An often-overlooked principle in Machine Learning is to build simple algorithms off of simple, yet meaningful data, that can do specific tasks efficiently, instead of using complex models. This is also called the principle of sufficiency in statistics. The Nearest Centroid classifier is arguably the simplest Classification algorithm in Machine Learning. The Nearest Centroid classifier works on a simple principle : Given a data point (observation), the Nearest Centroid classifier simply assign it the label (class) of the training sample whose mean or centroid is closest to it.\n",
        "When applied on text classification, the Nearest Centroid classifier is also called the Rocchio classifier. The scikit-learn library in Python offers a simple function to implement the Nearest Centroid Classifier.\n",
        "\n",
        "**How the nearest centroid classifier works?**\n",
        "\n",
        "Basically, what the nearest centroid classifier does can be explained in three steps: [3]\n",
        "\n",
        "* The centroid for each target class is computed while training.\n",
        "* After training, given any point, say 'X'. The distances between the point X and each class' centroid is calculated. [3]\n",
        "* Out of all the calculated distances, the minimum distance is picked. The centroid to which the given point's distance is minimum, it's class is assigned to the given point. [3]\n",
        "\n",
        "The Nearest Centroid Classifier is quite easy to understand and is one of the simplest classifier algorithms. [3]\n",
        "\n",
        "<br/>\n",
        "\n",
        "##Radius Neighbors Classifier\n",
        "\n",
        "Radius Neighbors is an extension to the k-nearest neighbors algorithm that makes predictions using all examples in the radius of a new example rather than the k-closest neighbors. [4]\n",
        "\n",
        "As such, the radius-based approach to selecting neighbors is more appropriate for sparse data, preventing examples that are far away in the feature space from contributing to a prediction. [4]"
      ]
    },
    {
      "cell_type": "code",
      "metadata": {
        "colab": {
          "base_uri": "https://localhost:8080/"
        },
        "id": "zGTwSej2XgjC",
        "outputId": "91f11ff3-aae1-4657-d2b0-b682324e070f"
      },
      "source": [
        "!pip install sktime\n",
        "!pip install tslearn"
      ],
      "execution_count": 1,
      "outputs": [
        {
          "output_type": "stream",
          "name": "stdout",
          "text": [
            "Collecting sktime\n",
            "  Downloading sktime-0.24.1-py3-none-any.whl (20.7 MB)\n",
            "\u001b[2K     \u001b[90m━━━━━━━━━━━━━━━━━━━━━━━━━━━━━━━━━━━━━━━━\u001b[0m \u001b[32m20.7/20.7 MB\u001b[0m \u001b[31m39.0 MB/s\u001b[0m eta \u001b[36m0:00:00\u001b[0m\n",
            "\u001b[?25hRequirement already satisfied: numpy<1.27,>=1.21 in /usr/local/lib/python3.10/dist-packages (from sktime) (1.23.5)\n",
            "Requirement already satisfied: packaging in /usr/local/lib/python3.10/dist-packages (from sktime) (23.2)\n",
            "Requirement already satisfied: pandas<2.2.0,>=1.1 in /usr/local/lib/python3.10/dist-packages (from sktime) (1.5.3)\n",
            "Collecting scikit-base<0.7.0 (from sktime)\n",
            "  Downloading scikit_base-0.6.1-py3-none-any.whl (122 kB)\n",
            "\u001b[2K     \u001b[90m━━━━━━━━━━━━━━━━━━━━━━━━━━━━━━━━━━━━━━━━\u001b[0m \u001b[32m122.4/122.4 kB\u001b[0m \u001b[31m13.1 MB/s\u001b[0m eta \u001b[36m0:00:00\u001b[0m\n",
            "\u001b[?25hRequirement already satisfied: scikit-learn<1.4.0,>=0.24 in /usr/local/lib/python3.10/dist-packages (from sktime) (1.2.2)\n",
            "Requirement already satisfied: scipy<2.0.0,>=1.2 in /usr/local/lib/python3.10/dist-packages (from sktime) (1.11.4)\n",
            "Requirement already satisfied: python-dateutil>=2.8.1 in /usr/local/lib/python3.10/dist-packages (from pandas<2.2.0,>=1.1->sktime) (2.8.2)\n",
            "Requirement already satisfied: pytz>=2020.1 in /usr/local/lib/python3.10/dist-packages (from pandas<2.2.0,>=1.1->sktime) (2023.3.post1)\n",
            "Requirement already satisfied: joblib>=1.1.1 in /usr/local/lib/python3.10/dist-packages (from scikit-learn<1.4.0,>=0.24->sktime) (1.3.2)\n",
            "Requirement already satisfied: threadpoolctl>=2.0.0 in /usr/local/lib/python3.10/dist-packages (from scikit-learn<1.4.0,>=0.24->sktime) (3.2.0)\n",
            "Requirement already satisfied: six>=1.5 in /usr/local/lib/python3.10/dist-packages (from python-dateutil>=2.8.1->pandas<2.2.0,>=1.1->sktime) (1.16.0)\n",
            "Installing collected packages: scikit-base, sktime\n",
            "Successfully installed scikit-base-0.6.1 sktime-0.24.1\n",
            "Collecting tslearn\n",
            "  Downloading tslearn-0.6.2-py3-none-any.whl (369 kB)\n",
            "\u001b[2K     \u001b[90m━━━━━━━━━━━━━━━━━━━━━━━━━━━━━━━━━━━━━━━━\u001b[0m \u001b[32m369.8/369.8 kB\u001b[0m \u001b[31m6.3 MB/s\u001b[0m eta \u001b[36m0:00:00\u001b[0m\n",
            "\u001b[?25hRequirement already satisfied: numpy in /usr/local/lib/python3.10/dist-packages (from tslearn) (1.23.5)\n",
            "Requirement already satisfied: scipy in /usr/local/lib/python3.10/dist-packages (from tslearn) (1.11.4)\n",
            "Requirement already satisfied: scikit-learn in /usr/local/lib/python3.10/dist-packages (from tslearn) (1.2.2)\n",
            "Requirement already satisfied: numba in /usr/local/lib/python3.10/dist-packages (from tslearn) (0.58.1)\n",
            "Requirement already satisfied: joblib in /usr/local/lib/python3.10/dist-packages (from tslearn) (1.3.2)\n",
            "Requirement already satisfied: llvmlite<0.42,>=0.41.0dev0 in /usr/local/lib/python3.10/dist-packages (from numba->tslearn) (0.41.1)\n",
            "Requirement already satisfied: threadpoolctl>=2.0.0 in /usr/local/lib/python3.10/dist-packages (from scikit-learn->tslearn) (3.2.0)\n",
            "Installing collected packages: tslearn\n",
            "Successfully installed tslearn-0.6.2\n"
          ]
        }
      ]
    },
    {
      "cell_type": "code",
      "source": [
        "from math import radians\n",
        "import sys\n",
        "import os\n",
        "import numpy as np\n",
        "import matplotlib.pyplot as plt\n",
        "import pandas as pd\n",
        "from pandas import read_csv\n",
        "from pathlib import Path\n",
        "\n",
        "#import streamlit as st\n",
        "\n",
        "import re\n",
        "import pytz\n",
        "from datetime import datetime\n",
        "from datetime import date\n",
        "\n",
        "import enum\n",
        "from matplotlib.colors import ListedColormap\n",
        "from sklearn.model_selection import train_test_split\n",
        "from sklearn.preprocessing import StandardScaler\n",
        "from sklearn.pipeline import Pipeline\n",
        "from sklearn.model_selection import GridSearchCV\n",
        "from sklearn.metrics import ConfusionMatrixDisplay, classification_report, RocCurveDisplay, auc, roc_curve, roc_auc_score\n",
        "\n",
        "from sklearn.neighbors import KNeighborsClassifier, NearestCentroid, RadiusNeighborsClassifier\n",
        "\n",
        "from plotly.subplots import make_subplots\n",
        "import plotly.graph_objects as go\n",
        "import plotly.express as px"
      ],
      "metadata": {
        "id": "q_BkVD8bGXVj"
      },
      "execution_count": 2,
      "outputs": []
    },
    {
      "cell_type": "code",
      "source": [
        "# GET TIME SERIES DATASET\n",
        "# steps 1, 2 - prepare osuleaf dataset (train and new)\n",
        "from sktime.datasets import load_italy_power_demand\n",
        "\n",
        "X_train, y_train = load_italy_power_demand(split=\"train\", return_type=\"numpy2D\")\n",
        "X_test, y_test = load_italy_power_demand(split=\"test\", return_type=\"numpy2D\")\n",
        "\n",
        "print(\"shape of X_train \",X_train.shape)\n",
        "print(\"shape of y_train \",y_train.shape)\n",
        "print(\"shape of X_test \",X_test.shape)\n",
        "print(\"shape of y_test \",y_test.shape)\n",
        "\n",
        "y_train = y_train.astype(int)\n",
        "y_test = y_test.astype(int)\n",
        "\n",
        "n_classes = int(np.amax(y_train))\n",
        "print(\"number of classes is \",n_classes)"
      ],
      "metadata": {
        "colab": {
          "base_uri": "https://localhost:8080/"
        },
        "id": "cILRPjIAGovr",
        "outputId": "d819d114-a103-4a2e-9d1c-4d110b8cb86c"
      },
      "execution_count": 3,
      "outputs": [
        {
          "output_type": "stream",
          "name": "stdout",
          "text": [
            "shape of X_train  (67, 24)\n",
            "shape of y_train  (67,)\n",
            "shape of X_test  (1029, 24)\n",
            "shape of y_test  (1029,)\n",
            "number of classes is  2\n"
          ]
        }
      ]
    },
    {
      "cell_type": "code",
      "source": [
        "# CLASSIFIER GRID SEARCH SETUP\n",
        "\n",
        "# K NEAREST NEIGHBORS\n",
        "def pipeBuild_KNeighborsClassifier(n_neighbors=[100],weights=['uniform'],algorithm=['auto'],leaf_size=[30]):\n",
        "  classifier = KNeighborsClassifier()\n",
        "  pipeline = Pipeline(steps=[('knn', classifier)])\n",
        "\n",
        "  params = [{\n",
        "      'knn__n_neighbors': n_neighbors,\n",
        "      'knn__weights': weights,\n",
        "      'knn__algorithm': algorithm,\n",
        "      'knn__leaf_size': leaf_size,\n",
        "  }]\n",
        "  return pipeline, params\n",
        "\n",
        "# NEAREST CENTROID CLASSIFIER\n",
        "def pipeBuild_NearestCentroid(metric=['euclidean'],shrink_threshold=[None]):\n",
        "  classifier = NearestCentroid()\n",
        "  pipeline = Pipeline(steps=[('nc', classifier)])\n",
        "\n",
        "  params = [{\n",
        "      'nc__metric': metric,\n",
        "      'nc__shrink_threshold': shrink_threshold,\n",
        "  }]\n",
        "  return pipeline, params\n",
        "\n",
        " # RADIUS NEAREST NEIGHBORS\n",
        "def pipeBuild_RadiusNeighborsClassifier(radius=[1.0],weights=['uniform'],algorithm=['auto'],leaf_size=[30],p=[2],metric=['minkowski']):\n",
        "  classifier = RadiusNeighborsClassifier()\n",
        "  pipeline = Pipeline(steps=[('radiusNN', classifier)])\n",
        "\n",
        "  params = [{\n",
        "      'radiusNN__radius': radius,\n",
        "      'radiusNN__weights': weights,\n",
        "      'radiusNN__algorithm': algorithm,\n",
        "      'radiusNN__leaf_size': leaf_size,\n",
        "      'radiusNN__p': p,\n",
        "      'radiusNN__metric': metric,\n",
        "  }]\n",
        "  return pipeline, params\n",
        ""
      ],
      "metadata": {
        "id": "Pwvk4KbGGs3z"
      },
      "execution_count": 8,
      "outputs": []
    },
    {
      "cell_type": "code",
      "source": [
        "# SETUP & RUN KNN GRIDSEARCH TRAINING & TESTING\n",
        "\n",
        "knn = pipeBuild_KNeighborsClassifier(n_neighbors=[3,5],weights=['uniform'],algorithm=['auto'],leaf_size=[20,30])\n",
        "\n",
        "\n",
        "names=['K Nearest Neighbors']\n",
        "pipes=[knn]\n",
        "\n",
        "\n",
        "samples = np.arange(len(X_train[0,:]))\n",
        "\n",
        "# iterate over classifiers\n",
        "for j in range(len(names)):\n",
        "\n",
        "    today = date.today()\n",
        "    now = today.strftime(\"%b-%d-%Y\")\n",
        "    save_file = str(names[j]) + '-' + str(now) + '-HeatMap.png'\n",
        "\n",
        "    grid_search = GridSearchCV(estimator=pipes[j][0], param_grid=pipes[j][1], scoring='neg_mean_squared_error',cv=5, verbose=1, n_jobs=-1)\n",
        "    grid_search.fit(X_train, y_train)\n",
        "    score = grid_search.score(X_test, y_test)\n",
        "    print(\"Best parameter (CV score=%0.3f):\" % grid_search.best_score_)\n",
        "    print(grid_search.best_params_)\n",
        "    y_pred = grid_search.predict(X_test)\n",
        "    print(classification_report(y_test, y_pred))\n",
        "    ConfusionMatrixDisplay.from_estimator(grid_search, X_test, y_test, xticks_rotation=\"vertical\")\n",
        "\n",
        "plt.tight_layout()\n",
        "plt.show()"
      ],
      "metadata": {
        "colab": {
          "base_uri": "https://localhost:8080/",
          "height": 706
        },
        "id": "yxP_4ASWHI_O",
        "outputId": "63db4011-9102-4638-ab03-24dd6e47ad80"
      },
      "execution_count": 5,
      "outputs": [
        {
          "output_type": "stream",
          "name": "stdout",
          "text": [
            "Fitting 5 folds for each of 4 candidates, totalling 20 fits\n",
            "Best parameter (CV score=-0.014):\n",
            "{'knn__algorithm': 'auto', 'knn__leaf_size': 20, 'knn__n_neighbors': 3, 'knn__weights': 'uniform'}\n",
            "              precision    recall  f1-score   support\n",
            "\n",
            "           1       0.96      0.95      0.96       513\n",
            "           2       0.95      0.96      0.96       516\n",
            "\n",
            "    accuracy                           0.96      1029\n",
            "   macro avg       0.96      0.96      0.96      1029\n",
            "weighted avg       0.96      0.96      0.96      1029\n",
            "\n"
          ]
        },
        {
          "output_type": "display_data",
          "data": {
            "text/plain": [
              "<Figure size 640x480 with 2 Axes>"
            ],
            "image/png": "[encoded data removed]"
          },
          "metadata": {}
        }
      ]
    },
    {
      "cell_type": "code",
      "source": [
        "# SETUP & RUN NEAREST CENTROID GRIDSEARCH TRAINING & TESTING\n",
        "\n",
        "nc = pipeBuild_NearestCentroid()\n",
        "\n",
        "\n",
        "names=['Nearest Centroid']\n",
        "pipes=[nc]\n",
        "\n",
        "\n",
        "samples = np.arange(len(X_train[0,:]))\n",
        "\n",
        "# iterate over classifiers\n",
        "for j in range(len(names)):\n",
        "\n",
        "    today = date.today()\n",
        "    now = today.strftime(\"%b-%d-%Y\")\n",
        "    save_file = str(names[j]) + '-' + str(now) + '-HeatMap.png'\n",
        "\n",
        "    grid_search = GridSearchCV(estimator=pipes[j][0], param_grid=pipes[j][1], scoring='neg_mean_squared_error',cv=5, verbose=1, n_jobs=-1)\n",
        "    grid_search.fit(X_train, y_train)\n",
        "    score = grid_search.score(X_test, y_test)\n",
        "    print(\"Best parameter (CV score=%0.3f):\" % grid_search.best_score_)\n",
        "    print(grid_search.best_params_)\n",
        "    y_pred = grid_search.predict(X_test)\n",
        "    print(classification_report(y_test, y_pred))\n",
        "    ConfusionMatrixDisplay.from_estimator(grid_search, X_test, y_test, xticks_rotation=\"vertical\")\n",
        "\n",
        "plt.tight_layout()\n",
        "plt.show()"
      ],
      "metadata": {
        "colab": {
          "base_uri": "https://localhost:8080/",
          "height": 706
        },
        "id": "96tyaYxUJ_8m",
        "outputId": "c469e030-2738-4c6b-b15a-45a6f017fd6e"
      },
      "execution_count": 7,
      "outputs": [
        {
          "output_type": "stream",
          "name": "stdout",
          "text": [
            "Fitting 5 folds for each of 1 candidates, totalling 5 fits\n",
            "Best parameter (CV score=-0.059):\n",
            "{'nc__metric': 'euclidean', 'nc__shrink_threshold': None}\n",
            "              precision    recall  f1-score   support\n",
            "\n",
            "           1       0.89      0.96      0.92       513\n",
            "           2       0.95      0.88      0.92       516\n",
            "\n",
            "    accuracy                           0.92      1029\n",
            "   macro avg       0.92      0.92      0.92      1029\n",
            "weighted avg       0.92      0.92      0.92      1029\n",
            "\n"
          ]
        },
        {
          "output_type": "display_data",
          "data": {
            "text/plain": [
              "<Figure size 640x480 with 2 Axes>"
            ],
            "image/png": "[encoded data removed]"
          },
          "metadata": {}
        }
      ]
    },
    {
      "cell_type": "code",
      "source": [
        "# SETUP & RUN RADIUS NEIGHBORS GRIDSEARCH TRAINING & TESTING\n",
        "\n",
        "rad = pipeBuild_RadiusNeighborsClassifier(radius=[10])\n",
        "\n",
        "\n",
        "names=['Radius Neighbors']\n",
        "pipes=[rad]\n",
        "\n",
        "\n",
        "samples = np.arange(len(X_train[0,:]))\n",
        "\n",
        "# iterate over classifiers\n",
        "for j in range(len(names)):\n",
        "\n",
        "    today = date.today()\n",
        "    now = today.strftime(\"%b-%d-%Y\")\n",
        "    save_file = str(names[j]) + '-' + str(now) + '-HeatMap.png'\n",
        "\n",
        "    grid_search = GridSearchCV(estimator=pipes[j][0], param_grid=pipes[j][1], scoring='neg_mean_squared_error',cv=5, verbose=1, n_jobs=-1)\n",
        "    grid_search.fit(X_train, y_train)\n",
        "    score = grid_search.score(X_test, y_test)\n",
        "    print(\"Best parameter (CV score=%0.3f):\" % grid_search.best_score_)\n",
        "    print(grid_search.best_params_)\n",
        "    y_pred = grid_search.predict(X_test)\n",
        "    print(classification_report(y_test, y_pred))\n",
        "    ConfusionMatrixDisplay.from_estimator(grid_search, X_test, y_test, xticks_rotation=\"vertical\")\n",
        "\n",
        "plt.tight_layout()\n",
        "plt.show()"
      ],
      "metadata": {
        "colab": {
          "base_uri": "https://localhost:8080/",
          "height": 835
        },
        "id": "spVZlignK_V1",
        "outputId": "452d8693-9574-473f-91ed-c7e0506cd511"
      },
      "execution_count": 9,
      "outputs": [
        {
          "output_type": "stream",
          "name": "stdout",
          "text": [
            "Fitting 5 folds for each of 1 candidates, totalling 5 fits\n",
            "Best parameter (CV score=-0.492):\n",
            "{'radiusNN__algorithm': 'auto', 'radiusNN__leaf_size': 30, 'radiusNN__metric': 'minkowski', 'radiusNN__p': 2, 'radiusNN__radius': 10, 'radiusNN__weights': 'uniform'}\n"
          ]
        },
        {
          "output_type": "stream",
          "name": "stderr",
          "text": [
            "/usr/local/lib/python3.10/dist-packages/sklearn/metrics/_classification.py:1344: UndefinedMetricWarning: Precision and F-score are ill-defined and being set to 0.0 in labels with no predicted samples. Use `zero_division` parameter to control this behavior.\n",
            "  _warn_prf(average, modifier, msg_start, len(result))\n",
            "/usr/local/lib/python3.10/dist-packages/sklearn/metrics/_classification.py:1344: UndefinedMetricWarning: Precision and F-score are ill-defined and being set to 0.0 in labels with no predicted samples. Use `zero_division` parameter to control this behavior.\n",
            "  _warn_prf(average, modifier, msg_start, len(result))\n",
            "/usr/local/lib/python3.10/dist-packages/sklearn/metrics/_classification.py:1344: UndefinedMetricWarning: Precision and F-score are ill-defined and being set to 0.0 in labels with no predicted samples. Use `zero_division` parameter to control this behavior.\n",
            "  _warn_prf(average, modifier, msg_start, len(result))\n"
          ]
        },
        {
          "output_type": "stream",
          "name": "stdout",
          "text": [
            "              precision    recall  f1-score   support\n",
            "\n",
            "           1       0.50      1.00      0.67       513\n",
            "           2       0.00      0.00      0.00       516\n",
            "\n",
            "    accuracy                           0.50      1029\n",
            "   macro avg       0.25      0.50      0.33      1029\n",
            "weighted avg       0.25      0.50      0.33      1029\n",
            "\n"
          ]
        },
        {
          "output_type": "display_data",
          "data": {
            "text/plain": [
              "<Figure size 640x480 with 2 Axes>"
            ],
            "image/png": "[encoded data removed]"
          },
          "metadata": {}
        }
      ]
    }
  ]
}